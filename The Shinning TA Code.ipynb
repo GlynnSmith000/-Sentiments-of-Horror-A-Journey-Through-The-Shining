{
 "cells": [
  {
   "cell_type": "markdown",
   "metadata": {},
   "source": [
    "Import Packages"
   ]
  },
  {
   "cell_type": "code",
   "execution_count": 94,
   "metadata": {},
   "outputs": [],
   "source": [
    "import re\n",
    "import nltk\n",
    "import os\n",
    "import pandas as pd\n",
    "import numpy as np\n",
    "import dash\n",
    "from dash import dcc, html\n",
    "from dash.dependencies import Input, Output\n",
    "import plotly.express as px"
   ]
  },
  {
   "cell_type": "markdown",
   "metadata": {},
   "source": [
    "Sentiment analysis should be conducted by chapters (possibly even by the chapters paragrpahs, will try chapters for now). I need to split the text file by chapters"
   ]
  },
  {
   "cell_type": "markdown",
   "metadata": {},
   "source": [
    "**NO NEED TO RUN AGAIN**: The following code will extract and separate chapters from the Shinning text file and save each chapter as an individual txt file so sentiment analysis can be conducted on each chapter individually (can split by paragraphs later if needed)"
   ]
  },
  {
   "cell_type": "code",
   "execution_count": 76,
   "metadata": {},
   "outputs": [
    {
     "name": "stdout",
     "output_type": "stream",
     "text": [
      "Chapters have been successfully saved to the 'chapters' folder!\n"
     ]
    }
   ],
   "source": [
    "#read in \"The Shinning\" text file\n",
    "text = \"The Shining-Stephen King-1977.txt\"\n",
    "#folder for the chapter txt files\n",
    "chapter_text_files = 'chapters'\n",
    "os.makedirs(chapter_text_files, exist_ok=True)\n",
    "# Read the entire book text\n",
    "with open(text, 'r', encoding='utf-8') as file:\n",
    "    book_text = file.read()\n",
    "#Capture each chapter, each is denoted \"CHAPTER ####\"\n",
    "chapter_pattern = re.compile(r'(CHAPTER [A-Z]+)')\n",
    "# Split the text into chapters\n",
    "chapters = chapter_pattern.split(book_text)\n",
    "# Combine headers with their respective content\n",
    "chapter_data = [f\"{header}\\n{text.strip()}\" for header, text in zip(chapters[1::2], chapters[2::2])]\n",
    "\n",
    "# Save each chapter to a separate text file\n",
    "for idx, content in enumerate(chapter_data, start=1):\n",
    "    chapter_file = os.path.join(chapter_text_files, f'chapter_{idx}.txt')\n",
    "    with open(chapter_file, 'w', encoding='utf-8') as file:\n",
    "        file.write(content)\n",
    "#making sure everything ran fine\n",
    "print(f\"Chapters have been successfully saved to the '{chapter_text_files}' folder!\")"
   ]
  },
  {
   "cell_type": "markdown",
   "metadata": {},
   "source": [
    "After running the code above. I had to go into each chapter and separate each paragraph by cross referencing the original text. Indentations were lost in the online conversion process (this would of made it easy to automate the separation in each chapter). There is a large amount of conversational text, which makes it more difficult to split the text into paragraphs. Others could split the text in different spots because of this."
   ]
  },
  {
   "cell_type": "markdown",
   "metadata": {},
   "source": [
    "Setting Up Vader Package"
   ]
  },
  {
   "cell_type": "code",
   "execution_count": 95,
   "metadata": {},
   "outputs": [],
   "source": [
    "#nltk.download('vader_lexicon')\n",
    "from nltk.sentiment.vader import SentimentIntensityAnalyzer\n",
    "sentiment = SentimentIntensityAnalyzer()"
   ]
  },
  {
   "cell_type": "markdown",
   "metadata": {},
   "source": [
    "Sentiment analysis on *The Shinning*'s chapters"
   ]
  },
  {
   "cell_type": "markdown",
   "metadata": {},
   "source": [
    "Setting up working directory to extract all chapters from the chapters folder"
   ]
  },
  {
   "cell_type": "code",
   "execution_count": 96,
   "metadata": {},
   "outputs": [],
   "source": [
    "current_directory = os.getcwd()#Gets the current working directory\n",
    "folder_path = os.path.join(current_directory, 'chapters') #Define the path to the \"chapters\" folder\n",
    "\n",
    "#List all the chapters in the folder, ignoring hidden files like .DS_Store (i guess this happens on Mac)\n",
    "chapters = [file for file in os.listdir(folder_path) if not file.startswith('.')]\n",
    "def get_chapter_number(filename):\n",
    "    try:\n",
    "        return int(filename.split('_')[1].split('.')[0])\n",
    "    except (IndexError, ValueError):\n",
    "        return float('inf')\n",
    "    \n",
    "chapters.sort(key=get_chapter_number) #Sort the chapters based on the chapter number\n",
    "#print(chapters)"
   ]
  },
  {
   "cell_type": "markdown",
   "metadata": {},
   "source": [
    "Defining sentiment thresholds. \n",
    "Neutral doesn't offer much value, so I need tighten the threshold so there are fewer neutral values and add more groupings. \n",
    "\n",
    "standard cutoff is: positive >0.5, 0.5<= neutral >= - 0.5, negative < -0.5\n",
    "\n",
    "Further analysis shows that the min compound score is: -0.12598069306930695 and the max is: 0.15897197802197804"
   ]
  },
  {
   "cell_type": "code",
   "execution_count": 97,
   "metadata": {},
   "outputs": [],
   "source": [
    "strong_pos = 0.05 #x > 0.05\n",
    "weak_pos = 0.01  #0.05>= x > 0.01\n",
    "neutral_upper = 0.01 #0.01>= x >=-0.01\n",
    "neutral_lower = -0.01 #0.01>= x >=-0.01\n",
    "weak_neg = -0.05 #-0.01 > x >= -0.05\n",
    "strong_neg = -0.05 #-0.05 > x"
   ]
  },
  {
   "cell_type": "markdown",
   "metadata": {},
   "source": [
    "Loop through each chapter in the chapter file -> clean the text -> extract sentiment analysis scores for each sentence in the chapter -> calculate avg. compound score for each chapter -> store information about each chapter in a data frame"
   ]
  },
  {
   "cell_type": "code",
   "execution_count": 98,
   "metadata": {},
   "outputs": [],
   "source": [
    "#List to store chapter data for the table\n",
    "chapter_data = []\n",
    "\n",
    "#Loop through each chapter text file and read its content\n",
    "for chapter in chapters:\n",
    "    file_path = os.path.join(folder_path, chapter)  # Get full file path\n",
    "    with open(file_path, 'r') as file:\n",
    "        content = file.read()\n",
    "\n",
    "    #Getting rid of quotations, commas, paretheses, etc., and converting everything to lower case\n",
    "    cleaned_text = (content.replace('\"', '').replace('…', '').replace(',', '').replace('“', '').replace('”', '').replace('(', '').replace(')', '').lower())\n",
    "\n",
    "    #Page splits introduce multiple spaces -> replace multiple spaces with a single space\n",
    "    cleaned_text = re.sub(r'\\s+', ' ', cleaned_text)\n",
    "\n",
    "    #Split the text into sentences\n",
    "    sentences = nltk.tokenize.sent_tokenize(cleaned_text)\n",
    "\n",
    "    #Place to store each sentence's compound score to later get the avg. compound score for the chapter\n",
    "    compound_scores = []\n",
    "\n",
    "    #Sentiment analysis\n",
    "    for sentence in sentences:\n",
    "        score = sentiment.polarity_scores(sentence)\n",
    "        compound = score['compound']\n",
    "        compound_scores.append(compound)  # Sequentially adds compound scores to list\n",
    "\n",
    "    #Calculate average compound score for the chapter\n",
    "    average_compound = sum(compound_scores) / len(compound_scores)\n",
    "\n",
    "    #Classify overall chapter sentiment based on the average compound score\n",
    "    if average_compound > strong_pos:\n",
    "        chapter_sentiment = \"Positive\"\n",
    "    elif average_compound > weak_pos:\n",
    "        chapter_sentiment = \"Weak Positive\"\n",
    "    elif neutral_lower <= average_compound <= neutral_upper:\n",
    "        chapter_sentiment = \"Neutral\"\n",
    "    elif average_compound >= weak_neg:\n",
    "        chapter_sentiment = \"Weak Negative\"\n",
    "    else:\n",
    "        chapter_sentiment = \"Negative\"\n",
    "    #Store the chapter number, sentiment, average compound score, and full chapter text in the list\n",
    "    chapter_number = int(chapter.split('_')[1].split('.')[0])  # Extract chapter number\n",
    "    chapter_data.append([chapter_number, chapter_sentiment, average_compound, cleaned_text])\n",
    "\n",
    "#Creating a dataframe for easy analysis\n",
    "df = pd.DataFrame(chapter_data, columns=['Chapter Number', 'Sentiment', 'Average Compound Score', 'Full Text'])\n"
   ]
  },
  {
   "cell_type": "markdown",
   "metadata": {},
   "source": [
    "Finding the min/max avg. compound scores to adjust thresholds"
   ]
  },
  {
   "cell_type": "code",
   "execution_count": 99,
   "metadata": {},
   "outputs": [
    {
     "name": "stdout",
     "output_type": "stream",
     "text": [
      "-0.12598069306930695\n",
      "0.15897197802197804\n"
     ]
    }
   ],
   "source": [
    "print(df['Average Compound Score'].min())\n",
    "print(df['Average Compound Score'].max())"
   ]
  },
  {
   "cell_type": "markdown",
   "metadata": {},
   "source": [
    "Saving the df to a csv"
   ]
  },
  {
   "cell_type": "code",
   "execution_count": null,
   "metadata": {},
   "outputs": [],
   "source": [
    "#df.to_csv('allchapters.csv', index=False)"
   ]
  },
  {
   "cell_type": "markdown",
   "metadata": {},
   "source": [
    "I think it would be cool to find the main topics of each chapter"
   ]
  },
  {
   "cell_type": "markdown",
   "metadata": {},
   "source": [
    "**Topic Modeling**"
   ]
  },
  {
   "cell_type": "code",
   "execution_count": 79,
   "metadata": {},
   "outputs": [],
   "source": [
    "import gensim\n",
    "from gensim.models.ldamulticore import LdaMulticore\n",
    "from gensim import corpora, models\n",
    "import pyLDAvis.gensim\n",
    "\n",
    "#nltk.download('wordnet')\n",
    "#nltk.download('omw-1.4')\n",
    "from nltk.corpus import stopwords\n",
    "import string\n",
    "from nltk.stem.wordnet import WordNetLemmatizer\n",
    "\n",
    "import warnings\n",
    "warnings.simplefilter('ignore')\n",
    "from itertools import chain"
   ]
  },
  {
   "cell_type": "markdown",
   "metadata": {},
   "source": [
    "A little bit more cleaning for LDA"
   ]
  },
  {
   "cell_type": "code",
   "execution_count": 80,
   "metadata": {},
   "outputs": [],
   "source": [
    "stop = set(stopwords.words('english'))\n",
    "exclude = set(string.punctuation)\n",
    "lemma = WordNetLemmatizer()"
   ]
  },
  {
   "cell_type": "code",
   "execution_count": 81,
   "metadata": {},
   "outputs": [],
   "source": [
    "def clean(text):\n",
    "    remove_stopwords = ' '. join([word for word in text.lower().split() if word not in stop])\n",
    "    remove_punc = ''.join(pun for pun in remove_stopwords if pun not in exclude)\n",
    "    normalized = ' '. join([lemma.lemmatize(word) for word in remove_punc.split()])\n",
    "    return normalized.split()"
   ]
  },
  {
   "cell_type": "code",
   "execution_count": 82,
   "metadata": {},
   "outputs": [],
   "source": [
    "df['chp_words'] = df['Full Text'].apply(clean)"
   ]
  },
  {
   "cell_type": "markdown",
   "metadata": {},
   "source": [
    "Create a dictionary for all the words in the book"
   ]
  },
  {
   "cell_type": "code",
   "execution_count": 83,
   "metadata": {},
   "outputs": [
    {
     "name": "stdout",
     "output_type": "stream",
     "text": [
      "46144\n"
     ]
    }
   ],
   "source": [
    "word_dict = corpora.Dictionary(df['chp_words'])\n",
    "print(word_dict.num_nnz) #Numnber of unqiue words in the book"
   ]
  },
  {
   "cell_type": "markdown",
   "metadata": {},
   "source": [
    "Create document term matrix"
   ]
  },
  {
   "cell_type": "code",
   "execution_count": 84,
   "metadata": {},
   "outputs": [
    {
     "name": "stdout",
     "output_type": "stream",
     "text": [
      "58\n"
     ]
    }
   ],
   "source": [
    "doc_term_matrix = [word_dict.doc2bow(doc) for doc in df['chp_words']]\n",
    "print(len(doc_term_matrix))"
   ]
  },
  {
   "cell_type": "code",
   "execution_count": 85,
   "metadata": {},
   "outputs": [],
   "source": [
    "lda = gensim.models.ldamodel.LdaModel"
   ]
  },
  {
   "cell_type": "code",
   "execution_count": 86,
   "metadata": {},
   "outputs": [
    {
     "name": "stdout",
     "output_type": "stream",
     "text": [
      "CPU times: user 9.72 s, sys: 8.86 s, total: 18.6 s\n",
      "Wall time: 12.2 s\n"
     ]
    }
   ],
   "source": [
    "np.random.seed(24)\n",
    "num_topics = 5\n",
    "%time ldamodel = lda(doc_term_matrix, num_topics = num_topics, id2word = word_dict, passes = 50, random_state=24, minimum_probability =0 )"
   ]
  },
  {
   "cell_type": "markdown",
   "metadata": {},
   "source": [
    "Print the topics identified by LDA model"
   ]
  },
  {
   "cell_type": "code",
   "execution_count": null,
   "metadata": {},
   "outputs": [],
   "source": [
    "ldamodel.print_topics(num_topics=num_topics)"
   ]
  },
  {
   "cell_type": "code",
   "execution_count": 87,
   "metadata": {},
   "outputs": [
    {
     "data": {
      "text/html": [
       "\n",
       "<link rel=\"stylesheet\" type=\"text/css\" href=\"https://cdn.jsdelivr.net/gh/bmabey/pyLDAvis@3.4.0/pyLDAvis/js/ldavis.v1.0.0.css\">\n",
       "\n",
       "\n",
       "<div id=\"ldavis_el298660123588807919865072\" style=\"background-color:white;\"></div>\n",
       "<script type=\"text/javascript\">\n",
       "\n",
       "var ldavis_el298660123588807919865072_data = {\"mdsDat\": {\"x\": [0.15537651996305107, 0.00018229266864989947, -0.08565277068472142, -0.0700498529942868, 0.00014381104730728204], \"y\": [0.033722611280072146, 0.026600339964663024, -0.04455798810195244, 0.0752389637865569, -0.09100392692933963], \"topics\": [1, 2, 3, 4, 5], \"cluster\": [1, 1, 1, 1, 1], \"Freq\": [3.426182558541989, 13.56781041995799, 54.23982641753729, 14.871729438747055, 13.894451165215674]}, \"tinfo\": {\"Term\": [\"overlook\", \"hotel\", \"jack\", \"danny\", \"hallorann\", \"ullman\", \"one\", \"back\", \"derwent\", \"would\", \"year\", \"like\", \"mr\", \"room\", \"high\", \"could\", \"time\", \"two\", \"paper\", \"wendy\", \"george\", \"daddy\", \"new\", \"said\", \"door\", \"get\", \"got\", \"colorado\", \"hand\", \"around\", \"clipping\", \"reputed\", \"tax\", \"headline\", \"gambling\", \"investment\", \"vega\", \"involvement\", \"brannigar\", \"executive\", \"financial\", \"ganglandstyle\", \"skimmed\", \"prashkin\", \"grondin\", \"moorer\", \"former\", \"margery\", \"convicted\", \"bankrupt\", \"josh\", \"indicted\", \"madame\", \"fraud\", \"1960\", \"underworld\", \"inc\", \"development\", \"ledger\", \"chicago\", \"enterprise\", \"la\", \"dated\", \"investor\", \"millionaire\", \"charles\", \"country\", \"derwent\", \"page\", \"gienelli\", \"company\", \"scrapbook\", \"president\", \"colorado\", \"california\", \"overlook\", \"horace\", \"hotel\", \"high\", \"paper\", \"year\", \"murder\", \"charge\", \"new\", \"group\", \"jack\", \"time\", \"one\", \"room\", \"interest\", \"back\", \"next\", \"two\", \"turned\", \"said\", \"almost\", \"would\", \"like\", \"could\", \"map\", \"whale\", \"route\", \"dray\", \"skidoo\", \"cowling\", \"barre\", \"jag\\u2019s\", \"jumble\", \"tossed\", \"foolish\", \"dock\", \"36\", \"beatrice\", \"imaginary\", \"wrench\", \"blackandwhite\", \"twinkling\", \"queasy\", \"blister\", \"mystery\", \"crommert\\u2019s\", \"dawn\", \"bobbing\", \"clicking\", \"horseblankets\", \"triscuits\", \"handcuffed\", \"wellbred\", \"frown\", \"fair\", \"stool\", \"wit\", \"wagon\", \"bike\", \"tire\", \"battery\", \"engine\", \"jag\", \"shelf\", \"shed\", \"stewardess\", \"equipment\", \"flaming\", \"lloyd\", \"lit\", \"circuit\", \"al\", \"box\", \"steam\", \"bar\", \"back\", \"one\", \"hallorann\", \"would\", \"like\", \"woman\", \"it\", \"jack\", \"car\", \"old\", \"two\", \"around\", \"get\", \"still\", \"could\", \"face\", \"said\", \"danny\", \"little\", \"wendy\", \"see\", \"right\", \"come\", \"looked\", \"going\", \"hand\", \"thing\", \"go\", \"snow\", \"him\", \"time\", \"way\", \"edmonds\", \"thrown\", \"parka\", \"booming\", \"tony\", \"clearly\", \"forever\", \"dome\", \"harry\", \"collapsed\", \"curb\", \"cog\", \"clockface\", \"hoarse\", \"bunch\", \"rib\", \"monkey\", \"dogman\", \"invisible\", \"tony\\u2019s\", \"turkey\", \"giggled\", \"gear\", \"sob\", \"chin\", \"dr\", \"trance\", \"muscle\", \"subconscious\", \"creeping\", \"worried\", \"tail\", \"burst\", \"clock\", \"divorce\", \"remember\", \"danny\", \"don\\u2019t\", \"doc\", \"answer\", \"cheek\", \"neck\", \"mask\", \"lion\", \"falling\", \"said\", \"mallet\", \"know\", \"mommy\", \"daddy\", \"wendy\", \"think\", \"real\", \"i\\u2019m\", \"jack\", \"began\", \"word\", \"again\", \"like\", \"time\", \"hand\", \"it\", \"head\", \"thing\", \"him\", \"right\", \"it\\u2019s\", \"something\", \"face\", \"one\", \"back\", \"would\", \"could\", \"see\", \"didn\\u2019t\", \"door\", \"come\", \"get\", \"way\", \"hallorann\", \"little\", \"around\", \"driver\", \"plow\", \"hedgeclipper\", \"cottrell\", \"workman\", \"becky\", \"embankment\", \"debater\", \"mciver\", \"baedecker\", \"queems\\u2019s\", \"rag\", \"queems\", \"limo\", \"rearview\", \"vecker\", \"massey\", \"taller\", \"buffalo\", \"clipper\", \"brake\", \"guardrail\", \"airhorn\", \"aretha\", \"plow\\u2019s\", \"glue\", \"omen\", \"est\", \"miami\", \"kent\", \"debate\", \"masterton\", \"brett\", \"em\", \"delores\", \"reputation\", \"lane\", \"george\", \"road\", \"hospital\", \"roof\", \"fuckin\", \"buick\", \"hatfield\", \"hallorann\", \"trouble\", \"watson\", \"got\", \"jacky\", \"could\", \"day\", \"would\", \"come\", \"fat\", \"get\", \"back\", \"one\", \"man\", \"two\", \"little\", \"ahead\", \"felt\", \"boy\", \"like\", \"year\", \"said\", \"around\", \"right\", \"jack\", \"way\", \"even\", \"go\", \"know\", \"it\", \"thought\", \"him\", \"hand\", \"eye\", \"thing\", \"hose\", \"pr\", \"officious\", \"m\\u2019\", \"omelet\", \"intended\", \"plan\", \"marilyn\", \"bloated\", \"stu\", \"album\", \"nozzle\", \"bluebeard\", \"extreme\", \"wink\", \"poem\", \"scaredycat\", \"maintenance\", \"railing\", \"bughouse\", \"sannytarium\", \"stairway\", \"boogie\", \"curiosity\", \"stenger\", \"shutter\", \"caribou\", \"extinguisher\", \"inout\", \"toothy\", \"tray\", \"installed\", \"snake\", \"ullman\", \"knife\", \"lou\", \"soup\", \"mr\", \"marble\", \"hotel\", \"step\", \"desk\", \"pantry\", \"fire\", \"room\", \"jack\", \"floor\", \"door\", \"nothing\", \"would\", \"danny\", \"like\", \"said\", \"looked\", \"hand\", \"bolt\", \"thing\", \"daddy\", \"hurt\", \"back\", \"wendy\", \"thought\", \"made\", \"one\", \"could\", \"around\", \"go\", \"little\", \"overlook\", \"way\", \"think\", \"away\", \"it\", \"time\", \"right\"], \"Freq\": [150.0, 161.0, 664.0, 830.0, 302.0, 157.0, 486.0, 519.0, 44.0, 536.0, 114.0, 575.0, 155.0, 174.0, 76.0, 408.0, 285.0, 208.0, 60.0, 322.0, 63.0, 251.0, 62.0, 737.0, 246.0, 291.0, 206.0, 34.0, 372.0, 277.0, 4.555216481080479, 2.8885320291529353, 2.8885316886978787, 2.888530667332709, 2.888528965057426, 6.221955065362025, 8.999407844557286, 2.3329669136564837, 2.332966573201427, 2.332965892291314, 2.332965381608729, 2.332965041153672, 2.332965041153672, 2.3329645304710875, 5.110826877099461, 1.7773987340645225, 1.7773987340645225, 1.7773985638369942, 1.7773985638369942, 1.7773985638369942, 1.7773985638369942, 1.7773982233819374, 1.7773977126993525, 1.7773977126993525, 1.7773977126993525, 1.7773977126993525, 1.7773977126993525, 1.7773975424718242, 1.7773970317892394, 1.7773970317892394, 3.443936109407607, 6.220866290090959, 2.8885647128383707, 2.8885606273776916, 2.888560286922635, 3.9992050290048007, 8.44441299128067, 17.326441465057563, 6.776683001874252, 4.553722904747095, 5.665141501172954, 5.1086619233944255, 2.888469044967461, 8.440151855792037, 3.4439218102952287, 18.9755403919456, 3.998874447144824, 15.08994998170511, 8.98840978440829, 7.878211719360407, 9.53723286841853, 4.553120980206994, 4.552778141964978, 6.767568339098467, 3.9995458245164754, 11.634534068243392, 8.378528128723902, 9.460397609420692, 6.744461654405786, 3.9969913902266687, 7.7880810094915125, 5.102022709335312, 6.1870039492495925, 5.634340191745642, 6.042569296029857, 5.084170607986477, 5.563674999738897, 5.541764674115171, 5.028570892690147, 5.075911696800639, 5.074365631601982, 4.256990925143257, 4.254078107300048, 3.4380283588304055, 3.438027010615713, 3.438003416858594, 3.4379956646241117, 3.437419976950402, 3.43736166666495, 3.436642731180159, 3.436413197628756, 2.619052310370629, 2.619050625102264, 2.6190496139412445, 2.619050119521754, 2.6190499509949174, 2.6190499509949174, 2.6190416931799256, 2.6190398393847234, 2.6190268628183078, 2.6190192791106623, 2.6190189420569894, 2.619018773530153, 2.618972428650097, 2.618812496682196, 2.6181616460393773, 2.6181616460393773, 2.6181616460393773, 2.618056653820197, 5.075562846248948, 7.532795014041442, 5.023911730217144, 11.558329496576423, 5.892881938851606, 9.170039972354763, 9.170726887740607, 9.792725736138843, 4.255004330793815, 13.244967648365236, 12.369010991194088, 5.075980118696285, 10.778535600564597, 5.0388981476856225, 14.902313139529472, 7.484229624387163, 5.723771999430967, 31.58600078086238, 13.810829533395951, 7.268549653057189, 17.514569436688735, 78.35084971326823, 75.11543105843108, 55.12201116840882, 74.42690860067408, 72.63030466570383, 21.304085455149597, 50.8075515808355, 74.72713983412397, 20.40636187176757, 28.733386116533744, 34.674579980677436, 40.32246973846145, 41.33240388248797, 33.11737852865956, 45.04067918000642, 31.10962529783358, 59.289763425999915, 61.92539911414232, 35.3361839838834, 37.21293119303634, 30.17613223044407, 33.04789963269477, 32.19133299923158, 29.625173510624567, 26.588751344404688, 33.85309658994323, 31.905810788077176, 28.549473453896486, 24.64943618780087, 27.448990514690333, 29.077048738088763, 26.534340095843607, 50.30372586101499, 18.52276120037687, 15.627694919576028, 14.661903890152528, 119.3731041187241, 12.727249681170708, 13.530317811018854, 10.803476677633517, 10.796273967745055, 10.79328805340349, 11.636447742511066, 9.838366102516195, 9.838362060213386, 9.821285351996863, 9.818198380085075, 11.58453514240392, 8.873256201116007, 8.873253506247469, 8.873254179964603, 8.87324946394466, 8.873246095358985, 8.865767835162378, 8.843412553194469, 8.841216235334924, 8.811812524702429, 15.006141007627898, 7.908133499090258, 7.896508509928776, 7.894483989938615, 7.892198741417273, 22.89198929133227, 17.597209947982464, 27.10786588805779, 34.50348794090633, 24.21069087262493, 61.73858665731093, 655.9968434980898, 217.26219882724763, 62.34254981486866, 29.191904744779613, 20.347976797977, 38.05803301860912, 21.62406711792597, 35.098733198739374, 25.718149131017025, 512.5942218237706, 69.33718351367234, 184.38059865264992, 75.11669559836058, 183.2473309755477, 227.61463333630414, 137.63989323089388, 46.87334685126126, 105.97225587693968, 415.5834386695815, 117.60749092860806, 79.63438938688407, 95.31684268774477, 354.812471509998, 189.51509934218953, 238.15538525888817, 214.8931722327559, 134.68030236522188, 202.3713901084969, 151.21520726191372, 179.73722158518973, 134.67210996486236, 121.78569056828537, 137.3449775974251, 274.8433471121082, 289.3647648104375, 292.0949900249911, 233.5561285791537, 144.23272742022235, 138.21036456224496, 152.82268556614258, 165.66233282435115, 167.6718208378013, 145.6679820658405, 163.3267872765919, 150.59409396097175, 151.53505581910827, 16.981787594891372, 10.255700339716888, 6.891173387107022, 5.21110663572974, 5.211101832933901, 5.210226615753679, 5.1598892514554375, 4.370331782252705, 4.370327348902699, 4.3703262405651975, 4.3703262405651975, 4.364442815662265, 9.415064767319187, 9.41476403841049, 4.260253548849043, 3.529546584292323, 3.529543259279819, 3.5282930545783104, 3.528022620227984, 3.528021142444649, 3.5189619611545506, 4.118643482978167, 2.6887490098965094, 2.6887490098965094, 2.688748825173593, 2.688748455727759, 2.688747901559008, 2.6887442071006706, 2.6887432834860863, 2.6887429140402523, 6.051981978473564, 6.051905503185972, 6.051031763789084, 16.14006585174236, 6.050786082309621, 4.664224834686502, 5.206480434999158, 39.6543089680829, 33.55033672465077, 7.617534190875165, 14.456074107827009, 6.046163576037376, 8.274113326667438, 10.241164862832681, 78.28635835853228, 15.16151614959491, 20.197120497554543, 51.06344358428327, 10.254847658732526, 72.82728485141166, 33.908909028650115, 84.74541829285955, 56.42066235281432, 7.648184895028817, 55.779156607040235, 78.77705335939105, 67.34472050039602, 33.76541922237697, 40.723278321372796, 45.62273892401815, 15.424512816395593, 27.461390582170104, 33.017625388007964, 62.65376330406893, 26.06353759208336, 67.99622788378218, 40.844891023152876, 40.1769329556802, 58.77739574885811, 35.38044429582577, 31.223179684275998, 33.92426024193531, 34.054402709125675, 38.23351191393514, 32.625108400801, 32.28960429466282, 37.351813176004555, 30.578280947964487, 32.293490864834176, 25.40474742374971, 4.241218235997181, 4.241217545660914, 4.240554822844161, 4.240096439562574, 4.239620797874301, 6.688730225588513, 3.4252787363658204, 3.4252735588438146, 3.423800036080942, 3.4235936255369745, 8.320405575652336, 6.688472730160754, 2.6093278461860474, 2.6093264655135124, 2.609324221920643, 2.609302131160085, 2.6088264894718116, 2.6081453001599053, 2.607813938751529, 2.6078122129108605, 2.6074696335381384, 2.607317932143366, 5.872650587694861, 9.025283776576316, 5.056807735140944, 4.24127656941178, 9.951010214165343, 1.7933338099895586, 1.7933336374054918, 5.0559423986296945, 3.4252884010735647, 8.21157406308882, 74.02838636610063, 17.78047763053037, 9.014086522318275, 6.575569614291818, 52.482742937925366, 7.112277758447339, 51.05471885776814, 20.1354714438943, 18.871005974238965, 7.241376853486924, 20.68221914838735, 42.42368198151499, 103.84581567694799, 30.942453757840436, 51.576331418763324, 28.83195495964679, 79.66370072571867, 101.07709229312091, 80.09077587690416, 91.14361178779492, 44.47142092896221, 58.2625916211869, 13.614769065803152, 51.99752490495015, 44.45457672403643, 20.38922662975616, 65.08526779274877, 49.306207546119715, 40.168853199213004, 29.122757731637627, 59.851011191068565, 52.47556344074388, 42.472629584222275, 34.232234672303676, 36.25464380142562, 27.665847220705214, 30.575297033324546, 27.675404235991795, 26.71549717879251, 31.613256270266813, 29.06900262716382, 28.169754037112842], \"Total\": [150.0, 161.0, 664.0, 830.0, 302.0, 157.0, 486.0, 519.0, 44.0, 536.0, 114.0, 575.0, 155.0, 174.0, 76.0, 408.0, 285.0, 208.0, 60.0, 322.0, 63.0, 251.0, 62.0, 737.0, 246.0, 291.0, 206.0, 34.0, 372.0, 277.0, 5.243389939392903, 3.5766946086327547, 3.5766951335773, 3.576695414410203, 3.5766961178729297, 7.727098102025234, 11.611978435337747, 3.021126952811728, 3.021127239108337, 3.0211274768803773, 3.0211277792365725, 3.0211277065403155, 3.021128120844272, 3.021128254822407, 6.756725575699152, 2.4655551995057894, 2.46555523569943, 2.4655553330322757, 2.4655553478082144, 2.465555485115942, 2.4655556294737693, 2.465555415819616, 2.4655555235405977, 2.4655556395458254, 2.465555662143218, 2.4655557198488314, 2.4655557335681104, 2.465555935994386, 2.4655557276369606, 2.4655561445094016, 5.090189962409302, 10.76535607405162, 4.390661961376716, 4.390665280341707, 4.3906661782445955, 6.612028286572443, 16.696867345589517, 44.10254627282376, 14.640216786574083, 10.064196350802119, 14.462102627702931, 13.361088180718268, 5.348541072285651, 34.184050724403576, 7.570868848772436, 150.75383894342988, 10.024170621626414, 161.6361126912397, 76.62916480852462, 60.20759817864193, 114.72671928395093, 17.739994431513036, 18.764882903648004, 62.2255505385214, 13.846373969776032, 664.568323997755, 285.8069848010519, 486.61490747142454, 174.4672666858933, 16.610826622169277, 519.3660166853372, 59.14948458450433, 208.93559227851367, 149.99120774946363, 737.0663942173776, 131.39258324937134, 536.4946926439823, 575.7290800307901, 408.9282269440058, 5.71140388528234, 5.710728187876467, 4.892462619937562, 4.89120731672812, 4.073500600661678, 4.073499997096147, 4.073489913280157, 4.073486236127067, 4.073231629479713, 4.073204927054311, 4.072893839720383, 4.072792956903101, 3.254522006404951, 3.2545224032911446, 3.2545214522223223, 3.2545221541588263, 3.2545223617702197, 3.254522404381696, 3.254517456416597, 3.2545220613074615, 3.254512670664486, 3.2545078573575177, 3.2545079511203294, 3.254508288519215, 3.2544862673814032, 3.2544155093934504, 3.2541297955753485, 3.25412983972939, 3.254129862792227, 3.254084978152971, 6.549466502601165, 10.092126738637665, 6.67853593114059, 16.92263699587429, 8.043871949672937, 14.007978802112344, 14.364480433368179, 16.09847288645318, 5.850619630723752, 23.374291293183873, 22.474971541226743, 7.3911690496656055, 20.671381596584077, 7.641875705747584, 31.94002574374175, 13.053264038825342, 9.199136356622896, 93.88903842802637, 32.32633937115981, 13.014849984947798, 50.28080020462195, 519.3660166853372, 486.61490747142454, 302.6660419182308, 536.4946926439823, 575.7290800307901, 79.5496041963907, 339.4710962578356, 664.568323997755, 80.21344391756399, 147.1327728481073, 208.93559227851367, 277.45263074385866, 291.78953956101003, 211.11230280645194, 408.9282269440058, 207.89536052296867, 737.0663942173776, 830.0774967622823, 270.6418002377863, 322.16951823279294, 223.7560604084816, 285.0678799348932, 283.62728987508746, 232.6385156625187, 179.1412276315265, 372.0944019109787, 318.6793866475886, 228.3227802531174, 150.45850557061004, 228.14798866803466, 285.8069848010519, 239.32273981222215, 50.96733374318554, 19.13001468536949, 16.234797951576674, 15.269459867667761, 124.4688130854898, 13.338110574931079, 14.277305314060355, 11.409728086050613, 11.40772558467723, 11.40632522591176, 12.352912074982573, 10.444614750569857, 10.444612925391136, 10.44109662816526, 10.440288214724086, 12.344318404059402, 9.479500656750536, 9.479497881319261, 9.479500179380784, 9.479495792322403, 9.479499570088938, 9.477158465500539, 9.473153582825399, 9.473646737283392, 9.468092363892266, 16.137586295977105, 8.514378936221368, 8.511872667060583, 8.511034939736055, 8.509422846942087, 24.7254011270483, 18.989443114993577, 29.430711471164905, 37.99053500789187, 26.55078488273236, 70.57581643473209, 830.0774967622823, 271.844263113449, 73.24038402877132, 33.029103961113755, 22.67605173234706, 43.95287745948138, 24.24720560107395, 40.60103939619433, 29.27812347259314, 737.0663942173776, 85.76926925427182, 248.9551909124824, 93.96560723248473, 251.18462927255635, 322.16951823279294, 186.17115597594568, 57.01140206007585, 142.98189980402964, 664.568323997755, 161.24740679590383, 104.28164334067509, 128.6590392375175, 575.7290800307901, 285.8069848010519, 372.0944019109787, 339.4710962578356, 196.37286803531583, 318.6793866475886, 228.14798866803466, 285.0678799348932, 202.61035282173793, 179.64802959021546, 207.89536052296867, 486.61490747142454, 519.3660166853372, 536.4946926439823, 408.9282269440058, 223.7560604084816, 212.83801923519948, 246.3243855861758, 283.62728987508746, 291.78953956101003, 239.32273981222215, 302.6660419182308, 270.6418002377863, 277.45263074385866, 17.61291511835768, 10.886817665947557, 7.523092779742686, 5.842216629676399, 5.84221466048994, 5.84182175604526, 5.846577266714706, 5.001441022275912, 5.0014387576021795, 5.0014386805543785, 5.001438973903529, 5.0002489127715535, 10.859128068605449, 11.003884543061334, 5.013812573238709, 4.1606545548199305, 4.1606536371511655, 4.160092897754361, 4.1599655862819045, 4.159965609177676, 4.159411313146192, 5.0341751940993005, 3.3198549162227997, 3.3198549360452336, 3.3198550681693737, 3.319855044527164, 3.3198547281940773, 3.3198528548754536, 3.3198523915846874, 3.31985258484173, 7.498143830817102, 7.500049832841101, 7.499661597348131, 20.857044170251996, 7.640958925811733, 5.918434668570863, 6.658144090704047, 63.495202138637744, 62.91349546009334, 11.11999247413296, 27.030722497375688, 8.458706046501153, 12.956147744142218, 17.8156655629867, 302.6660419182308, 32.528122436161205, 49.98805399370043, 206.97935241784776, 19.07439668397906, 408.9282269440058, 123.6365302036881, 536.4946926439823, 283.62728987508746, 12.08104008046416, 291.78953956101003, 519.3660166853372, 486.61490747142454, 148.01630297599502, 208.93559227851367, 270.6418002377863, 39.37818089819457, 114.39268239921456, 161.29839551710552, 575.7290800307901, 114.72671928395093, 737.0663942173776, 277.45263074385866, 285.0678799348932, 664.568323997755, 239.32273981222215, 179.80609082814829, 228.3227802531174, 248.9551909124824, 339.4710962578356, 228.69911812604656, 228.14798866803466, 372.0944019109787, 201.0855957339875, 318.6793866475886, 27.869130559565903, 4.877294963712668, 4.877295133007185, 4.877003339813615, 4.876804240600965, 4.8766017677071725, 7.880051456892252, 4.06135697758223, 4.061354857104243, 4.060715258713121, 4.060620560203202, 9.914806856535076, 8.282983596141472, 3.245402856549751, 3.245403101990634, 3.2454015509447203, 3.2453999890371747, 3.245182929546717, 3.2448880447087936, 3.2447445189301405, 3.2447446672487916, 3.244600854577169, 3.244532121984578, 7.46704000891633, 11.568180892060512, 6.509998631180727, 5.714730718044895, 13.478327362502638, 2.429407321570214, 2.429407352865442, 7.348471060151381, 4.8784202047277585, 12.709100454368322, 157.36646885992315, 30.725722868500284, 14.6149476267725, 10.074948906994116, 155.27788280502926, 12.054633123220967, 161.6361126912397, 51.59525710149254, 48.770573036652756, 13.155701351560543, 58.08566424507664, 174.4672666858933, 664.568323997755, 111.74107140028022, 246.3243855861758, 107.0948587968215, 536.4946926439823, 830.0774967622823, 575.7290800307901, 737.0663942173776, 232.6385156625187, 372.0944019109787, 33.963474969368185, 318.6793866475886, 251.18462927255635, 67.68991113552312, 519.3660166853372, 322.16951823279294, 228.69911812604656, 128.18722869484702, 486.61490747142454, 408.9282269440058, 277.45263074385866, 228.3227802531174, 270.6418002377863, 150.75383894342988, 239.32273981222215, 186.17115597594568, 165.8410602893398, 339.4710962578356, 285.8069848010519, 285.0678799348932], \"Category\": [\"Default\", \"Default\", \"Default\", \"Default\", \"Default\", \"Default\", \"Default\", \"Default\", \"Default\", \"Default\", \"Default\", \"Default\", \"Default\", \"Default\", \"Default\", \"Default\", \"Default\", \"Default\", \"Default\", \"Default\", \"Default\", \"Default\", \"Default\", \"Default\", \"Default\", \"Default\", \"Default\", \"Default\", \"Default\", \"Default\", \"Topic1\", \"Topic1\", \"Topic1\", \"Topic1\", \"Topic1\", \"Topic1\", \"Topic1\", \"Topic1\", \"Topic1\", \"Topic1\", \"Topic1\", \"Topic1\", \"Topic1\", \"Topic1\", \"Topic1\", \"Topic1\", \"Topic1\", \"Topic1\", \"Topic1\", \"Topic1\", \"Topic1\", \"Topic1\", \"Topic1\", \"Topic1\", \"Topic1\", \"Topic1\", \"Topic1\", \"Topic1\", \"Topic1\", \"Topic1\", \"Topic1\", \"Topic1\", \"Topic1\", \"Topic1\", \"Topic1\", \"Topic1\", \"Topic1\", \"Topic1\", \"Topic1\", \"Topic1\", \"Topic1\", \"Topic1\", \"Topic1\", \"Topic1\", \"Topic1\", \"Topic1\", \"Topic1\", \"Topic1\", \"Topic1\", \"Topic1\", \"Topic1\", \"Topic1\", \"Topic1\", \"Topic1\", \"Topic1\", \"Topic1\", \"Topic1\", \"Topic1\", \"Topic1\", \"Topic1\", \"Topic1\", \"Topic1\", \"Topic1\", \"Topic1\", \"Topic1\", \"Topic1\", \"Topic1\", \"Topic1\", \"Topic1\", \"Topic2\", \"Topic2\", \"Topic2\", \"Topic2\", \"Topic2\", \"Topic2\", \"Topic2\", \"Topic2\", \"Topic2\", \"Topic2\", \"Topic2\", \"Topic2\", \"Topic2\", \"Topic2\", \"Topic2\", \"Topic2\", \"Topic2\", \"Topic2\", \"Topic2\", \"Topic2\", \"Topic2\", \"Topic2\", \"Topic2\", \"Topic2\", \"Topic2\", \"Topic2\", \"Topic2\", \"Topic2\", \"Topic2\", \"Topic2\", \"Topic2\", \"Topic2\", \"Topic2\", \"Topic2\", \"Topic2\", \"Topic2\", \"Topic2\", \"Topic2\", \"Topic2\", \"Topic2\", \"Topic2\", \"Topic2\", \"Topic2\", \"Topic2\", \"Topic2\", \"Topic2\", \"Topic2\", \"Topic2\", \"Topic2\", \"Topic2\", \"Topic2\", \"Topic2\", \"Topic2\", \"Topic2\", \"Topic2\", \"Topic2\", \"Topic2\", \"Topic2\", \"Topic2\", \"Topic2\", \"Topic2\", \"Topic2\", \"Topic2\", \"Topic2\", \"Topic2\", \"Topic2\", \"Topic2\", \"Topic2\", \"Topic2\", \"Topic2\", \"Topic2\", \"Topic2\", \"Topic2\", \"Topic2\", \"Topic2\", \"Topic2\", \"Topic2\", \"Topic2\", \"Topic2\", \"Topic2\", \"Topic2\", \"Topic2\", \"Topic2\", \"Topic3\", \"Topic3\", \"Topic3\", \"Topic3\", \"Topic3\", \"Topic3\", \"Topic3\", \"Topic3\", \"Topic3\", \"Topic3\", \"Topic3\", \"Topic3\", \"Topic3\", \"Topic3\", \"Topic3\", \"Topic3\", \"Topic3\", \"Topic3\", \"Topic3\", \"Topic3\", \"Topic3\", \"Topic3\", \"Topic3\", \"Topic3\", \"Topic3\", \"Topic3\", \"Topic3\", \"Topic3\", \"Topic3\", \"Topic3\", \"Topic3\", \"Topic3\", \"Topic3\", \"Topic3\", \"Topic3\", \"Topic3\", \"Topic3\", \"Topic3\", \"Topic3\", \"Topic3\", \"Topic3\", \"Topic3\", \"Topic3\", \"Topic3\", \"Topic3\", \"Topic3\", \"Topic3\", \"Topic3\", \"Topic3\", \"Topic3\", \"Topic3\", \"Topic3\", \"Topic3\", \"Topic3\", \"Topic3\", \"Topic3\", \"Topic3\", \"Topic3\", \"Topic3\", \"Topic3\", \"Topic3\", \"Topic3\", \"Topic3\", \"Topic3\", \"Topic3\", \"Topic3\", \"Topic3\", \"Topic3\", \"Topic3\", \"Topic3\", \"Topic3\", \"Topic3\", \"Topic3\", \"Topic3\", \"Topic3\", \"Topic3\", \"Topic3\", \"Topic3\", \"Topic3\", \"Topic3\", \"Topic3\", \"Topic3\", \"Topic4\", \"Topic4\", \"Topic4\", \"Topic4\", \"Topic4\", \"Topic4\", \"Topic4\", \"Topic4\", \"Topic4\", \"Topic4\", \"Topic4\", \"Topic4\", \"Topic4\", \"Topic4\", \"Topic4\", \"Topic4\", \"Topic4\", \"Topic4\", \"Topic4\", \"Topic4\", \"Topic4\", \"Topic4\", \"Topic4\", \"Topic4\", \"Topic4\", \"Topic4\", \"Topic4\", \"Topic4\", \"Topic4\", \"Topic4\", \"Topic4\", \"Topic4\", \"Topic4\", \"Topic4\", \"Topic4\", \"Topic4\", \"Topic4\", \"Topic4\", \"Topic4\", \"Topic4\", \"Topic4\", \"Topic4\", \"Topic4\", \"Topic4\", \"Topic4\", \"Topic4\", \"Topic4\", \"Topic4\", \"Topic4\", \"Topic4\", \"Topic4\", \"Topic4\", \"Topic4\", \"Topic4\", \"Topic4\", \"Topic4\", \"Topic4\", \"Topic4\", \"Topic4\", \"Topic4\", \"Topic4\", \"Topic4\", \"Topic4\", \"Topic4\", \"Topic4\", \"Topic4\", \"Topic4\", \"Topic4\", \"Topic4\", \"Topic4\", \"Topic4\", \"Topic4\", \"Topic4\", \"Topic4\", \"Topic4\", \"Topic4\", \"Topic4\", \"Topic4\", \"Topic4\", \"Topic5\", \"Topic5\", \"Topic5\", \"Topic5\", \"Topic5\", \"Topic5\", \"Topic5\", \"Topic5\", \"Topic5\", \"Topic5\", \"Topic5\", \"Topic5\", \"Topic5\", \"Topic5\", \"Topic5\", \"Topic5\", \"Topic5\", \"Topic5\", \"Topic5\", \"Topic5\", \"Topic5\", \"Topic5\", \"Topic5\", \"Topic5\", \"Topic5\", \"Topic5\", \"Topic5\", \"Topic5\", \"Topic5\", \"Topic5\", \"Topic5\", \"Topic5\", \"Topic5\", \"Topic5\", \"Topic5\", \"Topic5\", \"Topic5\", \"Topic5\", \"Topic5\", \"Topic5\", \"Topic5\", \"Topic5\", \"Topic5\", \"Topic5\", \"Topic5\", \"Topic5\", \"Topic5\", \"Topic5\", \"Topic5\", \"Topic5\", \"Topic5\", \"Topic5\", \"Topic5\", \"Topic5\", \"Topic5\", \"Topic5\", \"Topic5\", \"Topic5\", \"Topic5\", \"Topic5\", \"Topic5\", \"Topic5\", \"Topic5\", \"Topic5\", \"Topic5\", \"Topic5\", \"Topic5\", \"Topic5\", \"Topic5\", \"Topic5\", \"Topic5\", \"Topic5\", \"Topic5\", \"Topic5\", \"Topic5\"], \"logprob\": [30.0, 29.0, 28.0, 27.0, 26.0, 25.0, 24.0, 23.0, 22.0, 21.0, 20.0, 19.0, 18.0, 17.0, 16.0, 15.0, 14.0, 13.0, 12.0, 11.0, 10.0, 9.0, 8.0, 7.0, 6.0, 5.0, 4.0, 3.0, 2.0, 1.0, -6.4646, -6.9201, -6.9201, -6.9201, -6.9201, -6.1528, -5.7837, -7.1337, -7.1337, -7.1337, -7.1337, -7.1337, -7.1337, -7.1337, -6.3495, -7.4057, -7.4057, -7.4057, -7.4057, -7.4057, -7.4057, -7.4057, -7.4057, -7.4057, -7.4057, -7.4057, -7.4057, -7.4057, -7.4057, -7.4057, -6.7443, -6.153, -6.9201, -6.9201, -6.9201, -6.5948, -5.8474, -5.1286, -6.0674, -6.4649, -6.2465, -6.3499, -6.9201, -5.8479, -6.7443, -5.0377, -6.5949, -5.2668, -5.7849, -5.9168, -5.7257, -6.4651, -6.4651, -6.0687, -6.5947, -5.5269, -5.8552, -5.7338, -6.0722, -6.5953, -5.9283, -6.3512, -6.1584, -6.252, -6.182, -6.3547, -6.2646, -6.2686, -6.3657, -7.7326, -7.7329, -7.9086, -7.9092, -8.1222, -8.1222, -8.1222, -8.1222, -8.1224, -8.1224, -8.1226, -8.1227, -8.3943, -8.3943, -8.3943, -8.3943, -8.3943, -8.3943, -8.3943, -8.3943, -8.3943, -8.3943, -8.3943, -8.3943, -8.3943, -8.3944, -8.3947, -8.3947, -8.3947, -8.3947, -7.7327, -7.3379, -7.7429, -6.9097, -7.5834, -7.1412, -7.1411, -7.0755, -7.909, -6.7735, -6.8419, -7.7326, -6.9796, -7.7399, -6.6556, -7.3443, -7.6125, -5.9044, -6.7317, -7.3736, -6.4941, -4.9959, -5.0381, -5.3476, -5.0473, -5.0717, -6.2982, -5.4291, -5.0433, -6.3413, -5.9991, -5.8111, -5.6602, -5.6355, -5.8571, -5.5496, -5.9196, -5.2747, -5.2312, -5.7922, -5.7405, -5.9501, -5.8592, -5.8854, -5.9685, -6.0766, -5.8351, -5.8943, -6.0055, -6.1524, -6.0448, -5.9872, -6.0787, -6.8248, -7.8238, -7.9938, -8.0576, -5.9606, -8.1991, -8.1379, -8.363, -8.3636, -8.3639, -8.2887, -8.4566, -8.4566, -8.4583, -8.4586, -8.2932, -8.5598, -8.5598, -8.5598, -8.5598, -8.5598, -8.5606, -8.5632, -8.5634, -8.5667, -8.0344, -8.675, -8.6764, -8.6767, -8.677, -7.6121, -7.8751, -7.443, -7.2018, -7.556, -6.6199, -4.2567, -5.3617, -6.6102, -7.369, -7.7299, -7.1037, -7.669, -7.1847, -7.4956, -4.5034, -6.5039, -5.5258, -6.4238, -5.532, -5.3152, -5.8182, -6.8954, -6.0797, -4.7132, -5.9755, -6.3654, -6.1856, -4.8713, -5.4984, -5.2699, -5.3727, -5.8399, -5.4327, -5.7241, -5.5513, -5.84, -5.9406, -5.8203, -5.1266, -5.0752, -5.0658, -5.2894, -5.7714, -5.8141, -5.7136, -5.6329, -5.6208, -5.7615, -5.6471, -5.7283, -5.722, -6.6167, -7.1211, -7.5186, -7.7981, -7.7981, -7.7983, -7.808, -7.9741, -7.9741, -7.9741, -7.9741, -7.9754, -7.2066, -7.2066, -7.9996, -8.1877, -8.1877, -8.1881, -8.1882, -8.1882, -8.1907, -8.0334, -8.4598, -8.4598, -8.4598, -8.4598, -8.4598, -8.4598, -8.4598, -8.4598, -7.6485, -7.6485, -7.6487, -6.6676, -7.6487, -7.909, -7.799, -5.7687, -5.9358, -7.4184, -6.7778, -7.6495, -7.3358, -7.1225, -5.0885, -6.7301, -6.4433, -5.5158, -7.1211, -5.1608, -5.9252, -5.0092, -5.4161, -7.4144, -5.4275, -5.0823, -5.2391, -5.9295, -5.7421, -5.6285, -6.7129, -6.1361, -5.9518, -5.3113, -6.1884, -5.2294, -5.7391, -5.7556, -5.3751, -5.8827, -6.0077, -5.9248, -5.9209, -5.8052, -5.9638, -5.9741, -5.8285, -6.0286, -5.974, -6.146, -7.9361, -7.9361, -7.9362, -7.9363, -7.9364, -7.4805, -8.1497, -8.1497, -8.1502, -8.1502, -7.2622, -7.4805, -8.4218, -8.4218, -8.4218, -8.4218, -8.422, -8.4223, -8.4224, -8.4224, -8.4225, -8.4226, -7.6106, -7.1809, -7.7602, -7.9361, -7.0832, -8.7968, -8.7968, -7.7604, -8.1497, -7.2754, -5.0765, -6.5028, -7.1821, -7.4976, -5.4204, -7.4191, -5.448, -6.3784, -6.4433, -7.4011, -6.3516, -5.6332, -4.738, -5.9488, -5.4379, -6.0194, -5.0031, -4.765, -4.9978, -4.8685, -5.5861, -5.316, -6.7698, -5.4297, -5.5864, -6.3659, -5.2052, -5.4829, -5.6878, -6.0094, -5.2891, -5.4206, -5.6321, -5.8477, -5.7903, -6.0607, -5.9607, -6.0604, -6.0957, -5.9273, -6.0112, -6.0427], \"loglift\": [30.0, 29.0, 28.0, 27.0, 26.0, 25.0, 24.0, 23.0, 22.0, 21.0, 20.0, 19.0, 18.0, 17.0, 16.0, 15.0, 14.0, 13.0, 12.0, 11.0, 10.0, 9.0, 8.0, 7.0, 6.0, 5.0, 4.0, 3.0, 2.0, 1.0, 3.233, 3.16, 3.16, 3.16, 3.16, 3.1571, 3.1188, 3.1152, 3.1152, 3.1152, 3.1152, 3.1152, 3.1152, 3.1152, 3.0945, 3.0465, 3.0465, 3.0465, 3.0465, 3.0465, 3.0465, 3.0465, 3.0465, 3.0465, 3.0465, 3.0465, 3.0465, 3.0465, 3.0465, 3.0465, 2.983, 2.8253, 2.955, 2.955, 2.955, 2.8709, 2.692, 2.4394, 2.6034, 2.5807, 2.4365, 2.4123, 2.7576, 1.975, 2.586, 1.3012, 2.4547, 1.0024, 1.2307, 1.34, 0.8864, 2.0137, 1.9575, 1.1551, 2.1319, -0.6714, -0.1559, -0.5666, 0.1207, 1.9492, -0.8263, 0.9233, -0.1459, 0.092, -1.4301, 0.1217, -1.1951, -1.2696, -1.0247, 1.8795, 1.8793, 1.8583, 1.8579, 1.8279, 1.8279, 1.8279, 1.8279, 1.8278, 1.8277, 1.8276, 1.8276, 1.7802, 1.7802, 1.7802, 1.7802, 1.7802, 1.7802, 1.7802, 1.7802, 1.7802, 1.7802, 1.7802, 1.7802, 1.7802, 1.7802, 1.78, 1.78, 1.78, 1.78, 1.7425, 1.705, 1.7128, 1.6162, 1.6863, 1.5738, 1.5487, 1.5004, 1.679, 1.4295, 1.4003, 1.6217, 1.3463, 1.581, 1.2351, 1.4412, 1.523, 0.9081, 1.147, 1.4149, 0.9429, 0.1061, 0.129, 0.2944, 0.0222, -0.0728, 0.68, 0.0981, -0.1878, 0.6286, 0.3642, 0.2015, 0.0687, 0.0431, 0.1451, -0.2085, 0.098, -0.5228, -0.5981, -0.0384, -0.161, -0.006, -0.1573, -0.1785, -0.0634, 0.0898, -0.3996, -0.3039, -0.0817, 0.1885, -0.1202, -0.2879, -0.2019, 0.5986, 0.5795, 0.5736, 0.5712, 0.57, 0.5649, 0.558, 0.5572, 0.5567, 0.5565, 0.552, 0.552, 0.552, 0.5506, 0.5503, 0.5482, 0.5457, 0.5457, 0.5457, 0.5457, 0.5457, 0.5451, 0.543, 0.5427, 0.5399, 0.5391, 0.5379, 0.5367, 0.5366, 0.5365, 0.5347, 0.5356, 0.5295, 0.5155, 0.5195, 0.478, 0.3764, 0.3876, 0.4507, 0.4883, 0.5034, 0.4677, 0.4973, 0.4661, 0.4821, 0.2486, 0.3991, 0.3115, 0.3879, 0.2964, 0.2643, 0.3097, 0.416, 0.3122, 0.1423, 0.2962, 0.3421, 0.3118, 0.1277, 0.2009, 0.1655, 0.1545, 0.2346, 0.1577, 0.2005, 0.1505, 0.2033, 0.223, 0.1972, 0.0405, 0.0268, 0.0038, 0.0516, 0.1726, 0.18, 0.1344, 0.074, 0.0577, 0.1153, -0.0051, 0.0255, 0.0069, 1.8692, 1.846, 1.818, 1.7914, 1.7914, 1.7913, 1.7808, 1.7708, 1.7708, 1.7708, 1.7708, 1.7697, 1.763, 1.7497, 1.7428, 1.7412, 1.7412, 1.741, 1.7409, 1.7409, 1.7385, 1.705, 1.6949, 1.6949, 1.6949, 1.6949, 1.6949, 1.6949, 1.6949, 1.6949, 1.6914, 1.6912, 1.6911, 1.6493, 1.6724, 1.6676, 1.6598, 1.4349, 1.277, 1.5274, 1.2798, 1.5699, 1.4573, 1.352, 0.5535, 1.1424, 0.9995, 0.5062, 1.2851, 0.1803, 0.612, 0.0603, 0.2909, 1.4485, 0.2511, 0.0197, -0.0719, 0.4278, 0.2705, 0.1253, 0.9685, 0.4789, 0.3195, -0.3123, 0.4237, -0.4775, -0.0102, -0.0537, -0.5197, -0.0059, 0.155, -0.0009, -0.0836, -0.278, -0.0416, -0.0495, -0.3931, 0.0223, -0.3836, 1.8811, 1.8339, 1.8339, 1.8338, 1.8338, 1.8337, 1.8098, 1.8033, 1.8033, 1.8031, 1.803, 1.7984, 1.7599, 1.7555, 1.7555, 1.7555, 1.7555, 1.7554, 1.7552, 1.7552, 1.7552, 1.7551, 1.755, 1.7335, 1.7255, 1.7211, 1.6755, 1.6703, 1.6701, 1.6701, 1.5998, 1.62, 1.5369, 1.2196, 1.4267, 1.4904, 1.547, 0.8889, 1.4461, 0.8212, 1.0327, 1.0242, 1.3766, 0.941, 0.5597, 0.1175, 0.6896, 0.4101, 0.6614, 0.0664, -0.132, 0.0012, -0.1166, 0.319, 0.1195, 1.0596, 0.1607, 0.242, 0.7738, -0.1032, 0.0967, 0.2344, 0.4917, -0.1219, -0.0795, 0.0969, 0.0761, -0.0365, 0.2782, -0.0839, 0.0676, 0.1479, -0.4001, -0.312, -0.3408]}, \"token.table\": {\"Topic\": [1, 2, 1, 2, 3, 4, 5, 1, 2, 3, 4, 4, 2, 3, 4, 5, 5, 1, 2, 3, 4, 5, 2, 3, 4, 1, 2, 3, 4, 5, 1, 2, 3, 4, 5, 1, 2, 3, 4, 5, 4, 1, 1, 2, 3, 4, 5, 2, 2, 3, 5, 2, 4, 2, 3, 4, 5, 1, 2, 3, 2, 2, 5, 3, 5, 2, 2, 3, 4, 5, 5, 3, 1, 2, 3, 4, 2, 3, 4, 5, 4, 1, 2, 4, 4, 5, 2, 3, 4, 3, 2, 3, 5, 1, 3, 4, 5, 2, 3, 4, 5, 4, 5, 1, 2, 3, 4, 1, 3, 2, 3, 5, 1, 3, 2, 3, 4, 3, 2, 4, 1, 3, 4, 5, 3, 3, 3, 1, 2, 3, 4, 5, 1, 2, 3, 4, 5, 1, 2, 3, 4, 5, 1, 4, 1, 2, 3, 4, 5, 1, 2, 3, 4, 2, 3, 2, 3, 3, 5, 2, 3, 4, 5, 1, 2, 3, 4, 5, 1, 5, 2, 1, 2, 3, 4, 5, 2, 4, 4, 3, 4, 1, 3, 5, 1, 2, 3, 4, 5, 1, 1, 2, 3, 4, 5, 3, 4, 5, 2, 3, 5, 2, 3, 3, 1, 2, 3, 4, 5, 1, 2, 3, 4, 5, 2, 3, 2, 4, 3, 2, 4, 5, 4, 2, 3, 4, 1, 3, 2, 3, 4, 5, 4, 1, 2, 3, 4, 5, 1, 3, 5, 5, 1, 2, 3, 4, 5, 1, 2, 3, 4, 5, 2, 4, 2, 3, 4, 3, 4, 5, 1, 2, 3, 4, 5, 1, 1, 2, 3, 4, 5, 2, 3, 1, 2, 3, 4, 5, 2, 3, 1, 1, 2, 2, 3, 4, 1, 1, 3, 2, 3, 4, 1, 2, 3, 4, 5, 1, 3, 3, 4, 1, 2, 3, 4, 5, 1, 2, 3, 4, 5, 1, 2, 3, 4, 5, 1, 3, 1, 2, 3, 4, 5, 4, 2, 3, 4, 5, 1, 2, 3, 4, 5, 2, 3, 2, 3, 4, 5, 1, 2, 3, 4, 5, 1, 4, 1, 2, 3, 4, 5, 1, 2, 3, 4, 5, 3, 1, 3, 5, 2, 2, 3, 5, 3, 4, 5, 1, 2, 3, 4, 5, 2, 3, 4, 5, 2, 1, 1, 5, 2, 5, 5, 1, 2, 3, 4, 5, 1, 2, 1, 5, 3, 1, 1, 2, 3, 4, 5, 1, 2, 3, 4, 5, 1, 2, 3, 4, 5, 1, 2, 3, 4, 5, 2, 4, 2, 3, 2, 1, 2, 4, 3, 4, 5, 2, 3, 4, 5, 1, 3, 2, 4, 1, 1, 2, 3, 4, 5, 3, 4, 3, 4, 1, 2, 3, 4, 5, 1, 2, 3, 4, 5, 2, 3, 1, 2, 3, 4, 5, 3, 5, 1, 1, 2, 3, 4, 5, 5, 2, 3, 5, 1, 2, 3, 4, 5, 2, 3, 5, 1, 5, 1, 3, 5, 4, 2, 4, 4, 4, 1, 5, 3, 5, 3, 1, 2, 3, 4, 5, 1, 2, 3, 5, 3, 2, 5, 1, 2, 3, 4, 5, 1, 2, 3, 4, 5, 1, 2, 3, 4, 5, 1, 2, 3, 4, 5, 3, 5, 5, 1, 2, 3, 4, 5, 5, 4, 1, 2, 3, 4, 5, 1, 2, 3, 4, 5, 1, 3, 4, 1, 2, 3, 5, 1, 2, 3, 4, 5, 3, 1, 5, 4, 4, 5, 5, 1, 1, 3, 5, 2, 4, 5, 4, 4, 5, 2, 3, 4, 5, 4, 1, 2, 3, 4, 5, 3, 4, 1, 3, 1, 2, 3, 4, 5, 1, 2, 3, 4, 5, 2, 3, 4, 1, 2, 3, 4, 5, 2, 1, 2, 3, 4, 5, 5, 5, 1, 2, 3, 1, 2, 3, 4, 5, 2, 3, 4, 5, 1, 2, 3, 4, 5, 2, 5, 2, 1, 3, 4, 5, 2, 3, 4, 5, 3, 1, 2, 3, 4, 5, 3, 4, 5, 5, 2, 3, 2, 3, 5, 1, 2, 3, 4, 5, 2, 4, 1, 2, 3, 4, 5, 2, 3, 5, 3, 2, 3, 4, 1, 2, 3, 4, 5, 1, 2, 3, 4, 5, 1, 2, 3, 4, 5, 3, 1, 2, 3, 4, 5, 2, 4, 3, 5, 3, 5, 2, 3, 2, 4, 5, 2, 2, 3, 4, 5, 3, 1, 2, 3, 4, 5, 2, 1, 2, 3, 4, 5, 2, 3, 4, 5, 1, 4, 1, 3, 2, 3, 4, 1, 2, 3, 4, 5, 1, 2, 3, 4, 5, 2, 1, 2, 3, 4, 5, 2, 5, 2, 3, 1, 2, 3, 4, 5, 1, 2, 3, 4, 5, 4, 3, 4, 1, 2, 3, 4, 5, 2, 1, 2, 3, 4, 5], \"Freq\": [0.8111761704302682, 0.9217943507820664, 0.0077724814822680245, 0.10881474075175235, 0.7383857408154624, 0.054407370375876174, 0.08549729630494828, 0.025394773887227697, 0.12697386943613848, 0.4571059299700985, 0.3809216083084154, 0.9036539474481861, 0.3408278595219677, 0.3834313419622137, 0.05325435305030746, 0.2236682828112913, 0.7388033320330412, 0.03805389829736773, 0.14460481352999738, 0.5784192541199895, 0.0989401355731561, 0.14460481352999738, 0.09082898535582432, 0.8780135251063017, 0.9036539420525826, 0.007208437687680024, 0.14416875375360047, 0.5478412642636818, 0.1477729725974405, 0.1513771914412805, 0.012059739587473918, 0.12662726566847615, 0.5909272397862221, 0.11456752608100224, 0.1628064844308979, 0.01540339518372238, 0.1501831030412932, 0.556447651011971, 0.1521085274392585, 0.12515258586774433, 0.7997698773259028, 0.8111762286728464, 0.0198883071854548, 0.35798952933818645, 0.43754275808000564, 0.0198883071854548, 0.1591064574836384, 0.7364692349475502, 0.626545459945305, 0.208848486648435, 0.13923232443229, 0.9217942383700423, 0.8558973910537202, 0.0992264019492216, 0.7317947143755094, 0.0620165012182635, 0.1116297021928743, 0.1243182395563445, 0.7459094373380669, 0.1243182395563445, 0.9217942501302162, 0.9217943352317574, 0.7386697556733587, 0.1207294434901257, 0.8451061044308799, 0.9217982361830103, 0.11777357892876446, 0.4122075262506756, 0.08833018419657335, 0.4122075262506756, 0.9246325470696819, 0.982353019032564, 0.09280357932134044, 0.43308337016625537, 0.40214884372580856, 0.06186905288089363, 0.1301934835289355, 0.6385680382609693, 0.20458975983118435, 0.024798758767416284, 0.9616745493184676, 0.6620045571434737, 0.1333393496519361, 0.8000360979116166, 0.9615464159584842, 0.9245720217717364, 0.0771834359832863, 0.2315503079498589, 0.6174674878662904, 0.9578279635898229, 0.033978111639596686, 0.9174090142691106, 0.033978111639596686, 0.3962557085487525, 0.1320852361829175, 0.1320852361829175, 0.264170472365835, 0.24933476264345616, 0.5236030015512579, 0.12466738132172808, 0.09973390505738246, 0.1749863728211006, 0.6999454912844024, 0.2664551665828925, 0.21316413326631398, 0.42632826653262795, 0.10658206663315699, 0.60495808950532, 0.30247904475266, 0.04409938783891177, 0.8819877567782354, 0.04409938783891177, 0.8111760117301898, 0.9505610691254561, 0.6522351411478224, 0.10870585685797042, 0.21741171371594084, 0.974650789327946, 0.921804473433478, 0.9615464106662898, 0.9535815679920454, 0.9212821033641501, 0.07896703743121286, 0.026322345810404286, 0.9574313640374101, 0.9574311967279024, 0.9643772014330514, 0.2340272679939858, 0.1170136339969929, 0.38029431049022694, 0.14626704249624112, 0.08776022549774468, 0.010577261452243303, 0.11282412215726191, 0.5852751336907961, 0.19744221377520835, 0.0916695992527753, 0.4148774320344456, 0.0691462386724076, 0.345731193362038, 0.0691462386724076, 0.1382924773448152, 0.8111762738475632, 0.8558395412114239, 0.012227084535997673, 0.11004376082397904, 0.572227556284691, 0.178515434225566, 0.1271616791743758, 0.4791317936722545, 0.11978294841806363, 0.05989147420903181, 0.35934884525419086, 0.7364674118420506, 0.9401342657304719, 0.9217983583041142, 0.9714308599591428, 0.1339218751748897, 0.8035312510493382, 0.07962270644474159, 0.7285477639693856, 0.01194340596671124, 0.1751699541784315, 0.001204706794125248, 0.07469182123576537, 0.7902876569461627, 0.01204706794125248, 0.12167538620665004, 0.6832682694295449, 0.22775608980984832, 0.9217983317469796, 0.008088224397372888, 0.1294115903579662, 0.4529405662528817, 0.2749996295106782, 0.1374998147553391, 0.13336634006539538, 0.8001980403923722, 0.799769502866155, 0.13087362590340917, 0.785241755420455, 0.38546527211458304, 0.47616298320036726, 0.11337213885723031, 0.020504167528408283, 0.06151250258522485, 0.430587518096574, 0.10252083764204141, 0.38957918303975736, 0.8111760803323157, 0.009396817388108998, 0.11746021735136249, 0.6483803997795209, 0.11276180865730798, 0.10806339996325348, 0.9039280799419496, 0.03766366999758123, 0.03766366999758123, 0.06826834766507818, 0.8465275110469695, 0.08192201719809382, 0.736595263187933, 0.9494173755485317, 0.9640895836464726, 0.003678576801831088, 0.055178652027466316, 0.798251165997346, 0.0625358056311285, 0.08092868964028394, 0.012179062145475076, 0.10555187192745066, 0.6211321694192289, 0.05277593596372533, 0.21110374385490133, 0.06196713570785287, 0.929507035617793, 0.8177940007408486, 0.9652008134803961, 0.9810205150604945, 0.1438362970088946, 0.7671269173807713, 0.09589086467259642, 0.8552012180640498, 0.6211769321557805, 0.24847077286231223, 0.12423538643115611, 0.5893689670041375, 0.1964563223347125, 0.5321366619160927, 0.04837606017419024, 0.14512818052257073, 0.2418803008709512, 0.9036545085407247, 0.01668464058243324, 0.09454629663378836, 0.5895239672459744, 0.17240795268514347, 0.12235403093784376, 0.6620045050416754, 0.2225795470991561, 0.7419318236638536, 0.9243844701576914, 0.009946013252216055, 0.0895141192699445, 0.6216258282635034, 0.15416320540934886, 0.12929817227880872, 0.009620224304038937, 0.1491134767126035, 0.6589853648266671, 0.12987302810452564, 0.05291123367221415, 0.7634209592512942, 0.15268419185025883, 0.03415519443847167, 0.8880350554002633, 0.06831038887694334, 0.24832299040636396, 0.6621946410836372, 0.08277433013545465, 0.00874181791200716, 0.06993454329605728, 0.5507345284564511, 0.2360290836241933, 0.13112726868010738, 0.6620044387878862, 0.017215951870340543, 0.13772761496272434, 0.43039879675851356, 0.05164785561102163, 0.3615349892771514, 0.6542896263334165, 0.2617158505333666, 0.0268477826676045, 0.0984418697812165, 0.53695565335209, 0.06264482622441049, 0.2774270875652465, 0.7365770182229842, 0.9805771952087301, 0.8111763107317443, 0.8111761778648872, 0.9219181490775972, 0.11822139160559181, 0.11822139160559181, 0.7093283496335508, 0.838762897694565, 0.6620044547174494, 0.950053213147181, 0.07874610728985187, 0.28348598624346677, 0.629968858318815, 0.0034271276533918067, 0.14051223378906408, 0.5757574457698235, 0.19191914858994116, 0.08910531898818697, 0.49681065687887727, 0.49681065687887727, 0.9496517371491121, 0.9036539125241475, 0.021898822335892316, 0.12701316954817543, 0.5562300873316648, 0.14891199188406773, 0.14891199188406773, 0.005582187937535453, 0.1507190743134572, 0.5638009816910807, 0.16188345018852812, 0.12280813462577995, 0.014494199372812952, 0.08213379644594006, 0.6039249738672063, 0.2464013893378202, 0.04831399790937651, 0.7400034149651883, 0.14800068299303765, 0.2888842962591672, 0.1444421481295836, 0.0722210740647918, 0.0722210740647918, 0.4333264443887508, 0.794569089428694, 0.1817184367675412, 0.5385473671474403, 0.25770978305214937, 0.01982382946554995, 0.010749960169938207, 0.09137466144447476, 0.6396226301113233, 0.0994371315719284, 0.155874422464104, 0.9219054394736372, 0.9642588190213057, 0.22452150248656902, 0.16839112686492677, 0.5613037562164226, 0.056130375621642255, 0.0050923531850650535, 0.08147765096104086, 0.6874676799837822, 0.10693941688636613, 0.11712412325649622, 0.8387630626620467, 0.9304683864658416, 0.11744875495496454, 0.13049861661662726, 0.44369529649653267, 0.2087977865866036, 0.09134903163163909, 0.008766239894010585, 0.11834423856914288, 0.6618511119977991, 0.14025983830416935, 0.06574679920507938, 0.9577538027015874, 0.39903550637598817, 0.2992766297819911, 0.2992766297819911, 0.9218245154439828, 0.03588199487826348, 0.03588199487826348, 0.897049871956587, 0.17985623683220545, 0.7194249473288218, 0.08992811841610272, 0.09280104396381567, 0.0866143076995613, 0.3959511209122802, 0.10517451649232443, 0.3155235494769733, 0.044319750900450275, 0.6204765126063039, 0.044319750900450275, 0.29546500600300185, 0.9217945077459777, 0.8111761469312373, 0.8111762514715765, 0.8232460576875712, 0.20498439208473335, 0.6149531762542001, 0.8202433150248142, 0.24080679974478136, 0.06020169993619534, 0.4816135994895627, 0.12040339987239068, 0.06020169993619534, 0.7764881357501375, 0.1294146892916896, 0.6832677529375508, 0.22775591764585026, 0.9494171453866563, 0.6620046198782289, 0.011783035563540037, 0.15023370343513548, 0.633338161540277, 0.11193883785363035, 0.09426428450832029, 0.009871163897333786, 0.11351838481933854, 0.6663035630700306, 0.09871163897333786, 0.11351838481933854, 0.006993892243497922, 0.05595113794798338, 0.7413525778107798, 0.09791449140897092, 0.09791449140897092, 0.018056834138306804, 0.11285521336441753, 0.6259702501279693, 0.08877943451334179, 0.1564925625319923, 0.41941038201849645, 0.5242629775231206, 0.6836882676485292, 0.1709220669121323, 0.7364698997614139, 0.8111761811786278, 0.7365159344947932, 0.9036545820431425, 0.2603681623452226, 0.1301840811726113, 0.5858283652767508, 0.028117509718689804, 0.7390888268912749, 0.13657076149077904, 0.09238610336140936, 0.5573433854605291, 0.37156225697368606, 0.1501920034137107, 0.7509600170685535, 0.8111761488826056, 0.010421568421868007, 0.1267957491327274, 0.6166094649605237, 0.10942646842961407, 0.13895424562490674, 0.09087699858052084, 0.8178929872246875, 0.8620468963481921, 0.1231495566211703, 0.07660919115905584, 0.5362643381133909, 0.1532183823181117, 0.1532183823181117, 0.1532183823181117, 0.011084762211026514, 0.12932222579530933, 0.5579330312883345, 0.16996635390240653, 0.13301714653231816, 0.4696301787715078, 0.5322475359410422, 0.00859702871772676, 0.1289554307659014, 0.5502098379345126, 0.12035840204817465, 0.18913463178998874, 0.3421154921445434, 0.6158078858601781, 0.8111762160310028, 0.023403267474808875, 0.1326185156905836, 0.499269706129256, 0.11701633737404436, 0.2262315855898191, 0.92444711596552, 0.128251063529402, 0.8044839439571579, 0.058295937967909994, 0.013512025093103128, 0.1148522132913766, 0.5067009409913673, 0.2297044265827532, 0.14187626347758286, 0.8754415027248293, 0.33182262447247424, 0.5806895928268299, 0.8111762787088984, 0.738669370005966, 0.04124186582373469, 0.9073210481221631, 0.04124186582373469, 0.9613874042009499, 0.13333244742204453, 0.7999946845322672, 0.7997698650053459, 0.9036546346471718, 0.6832676132074816, 0.22775587106916056, 0.7981643732098593, 0.19155944957036625, 0.9494170975758016, 0.8111763226395791, 0.025760268801594228, 0.5345255776330802, 0.10304107520637691, 0.33488349442072496, 0.281849017444903, 0.2254792139559224, 0.3945886244228642, 0.1127396069779612, 0.9398636836942547, 0.921796994997558, 0.8201757762488776, 0.022751638977945528, 0.045503277955891056, 0.8645622811619301, 0.022751638977945528, 0.045503277955891056, 0.1124939826071378, 0.1124939826071378, 0.46604649937242804, 0.24105853415815243, 0.06428227577550731, 0.08453159034474281, 0.20287581682738276, 0.4395642697926626, 0.1859694987584342, 0.08453159034474281, 0.01867503279307147, 0.11205019675842881, 0.5042258854129297, 0.10271268036189309, 0.2707879754995363, 0.10085925166972638, 0.8068740133578111, 0.8201267077175474, 0.020389746906333737, 0.1971008867612261, 0.4961505080541209, 0.17671113985489237, 0.10874531683377993, 0.820209260543762, 0.9036539986290091, 0.018495117724128717, 0.15412598103440597, 0.5651285971261553, 0.137685876390736, 0.12330078482752478, 0.12603327472894219, 0.09286662348448371, 0.49086643841798533, 0.1061332839822671, 0.18573324696896742, 0.47813499636285445, 0.2732199979216311, 0.2732199979216311, 0.07601267110562517, 0.15202534221125033, 0.22803801331687548, 0.5320886977393762, 0.13287359472907728, 0.11626439538794263, 0.5148851795751745, 0.19931039209361595, 0.04982759802340399, 0.9855373653385153, 0.1269027246167732, 0.8883190723174125, 0.9185420668225758, 0.9036539060888139, 0.9243848420318634, 0.8201267361847523, 0.6620043345751858, 0.5609006193380462, 0.1869668731126821, 0.1869668731126821, 0.9217956394995543, 0.8287958244105872, 0.09208842493450968, 0.7997698304170401, 0.799960175939095, 0.9245311267030877, 0.07016140377998412, 0.8243964944148133, 0.01754035094499603, 0.07016140377998412, 0.797796076652337, 0.014169159501325662, 0.028338319002651324, 0.878487889082191, 0.07084579750662831, 0.028338319002651324, 0.16896359527467286, 0.8448179763733644, 0.8387632516232061, 0.9721071352188896, 0.014031745705316089, 0.11576190206885772, 0.6314285567392239, 0.14031745705316087, 0.09822221993721261, 0.015894840887267343, 0.22252777242174282, 0.19073809064720812, 0.5404245901670897, 0.04768452266180203, 0.14797976637096344, 0.33295447433466774, 0.517929182298372, 0.04012213943033012, 0.057317342043328744, 0.544514749411623, 0.11463468408665749, 0.24073283658198072, 0.8175841719667648, 0.008140379275290177, 0.08004706287368674, 0.6960024280373102, 0.09225763178662201, 0.12346241900856768, 0.9245719795091581, 0.9243852869088169, 0.37422101645999384, 0.07484420329199877, 0.5239094230439914, 0.008938305386450168, 0.1340745807967525, 0.643557987824412, 0.09832135925095184, 0.11619797002385217, 0.5339272611752998, 0.08898787686254996, 0.13348181529382494, 0.1779757537250999, 0.04278204577229718, 0.5561665950398634, 0.21391022886148592, 0.12834613731689154, 0.04278204577229718, 0.1536098633278251, 0.7680493166391256, 0.7364673027205878, 0.6620043639331284, 0.23605132485744512, 0.0786837749524817, 0.6294701996198536, 0.16615876852683162, 0.6181106189198137, 0.11963431333931876, 0.0930489103750257, 0.9500037577483903, 0.00556644012339596, 0.0834966018509394, 0.6791056950543071, 0.1113288024679192, 0.12246168271471113, 0.19851217296115345, 0.09925608648057672, 0.6947926053640371, 0.9246129599478746, 0.5378471521451099, 0.3841765372465071, 0.08644401477904977, 0.08644401477904977, 0.7779961330114479, 0.01938162645517803, 0.11628975873106819, 0.3876325291035606, 0.09690813227589015, 0.3876325291035606, 0.6764829712866887, 0.27059318851467545, 0.0142104460996307, 0.15631490709593768, 0.5636810286186844, 0.142104460996307, 0.12315719953013272, 0.7926971397784803, 0.19817428494462008, 0.7387861026608225, 0.9399561929477988, 0.05266083865357935, 0.9478950957644283, 0.9615169897189604, 0.8387631285195651, 0.10041440187465649, 0.6338659118337691, 0.10041440187465649, 0.16317340304631678, 0.0053714013578408755, 0.04834261222056788, 0.7412533873820408, 0.0644568162940905, 0.1503992380195445, 0.0043725573067092205, 0.10494137536102129, 0.5684324498721987, 0.14429439112140427, 0.17490229226836881, 0.99320362856444, 0.02799091843598133, 0.10146707933043234, 0.6647843128545566, 0.10496594413493, 0.10146707933043234, 0.6424909779734131, 0.28555154576596137, 0.9560627843238642, 0.040170705223691774, 0.9494175847716758, 0.82324604708265, 0.7365207628209272, 0.9395870280058681, 0.13608272956570638, 0.13608272956570638, 0.6804136478285319, 0.9219054519826192, 0.030742628996265384, 0.39965417695144995, 0.46113943494398074, 0.12297051598506153, 0.9494172064101439, 0.04000234473757983, 0.13334114912526612, 0.6133692859762241, 0.10000586184394959, 0.1133399767564762, 0.9217942380611601, 0.028716983710472495, 0.16751573831108957, 0.4786163951745416, 0.19623272202156206, 0.12922642669712622, 0.012709187760832729, 0.3749210389445655, 0.14615565924957638, 0.47023994715081097, 0.8111761514449264, 0.9613871921585464, 0.7750617218346759, 0.17223593818548352, 0.7091093428834749, 0.23636978096115832, 0.05909244524028958, 0.020004779544449187, 0.06001433863334757, 0.2000477954444919, 0.4000955908889838, 0.320076472711187, 0.004178457930009584, 0.11281836411025876, 0.6100548577813992, 0.14624602755033544, 0.1295321958302971, 0.9219054329398615, 0.009311867914928757, 0.11484637095078801, 0.7077019615345856, 0.015519779858214596, 0.15209384261050304, 0.875545085583779, 0.9243844002490442, 0.7486670808621491, 0.14973341617242983, 0.012570772791417254, 0.26398622861976234, 0.5154016844481074, 0.11313695512275528, 0.08799540953992077, 0.009589415432715468, 0.028768246298146408, 0.7671532346172375, 0.10548356975987015, 0.08630473889443922, 0.8558398296821037, 0.9302174667184346, 0.040444237683410204, 0.011183708025946117, 0.13793239898666879, 0.5442737905960444, 0.15843586370090335, 0.1491161070126149, 0.9217943089330081, 0.08716365344022259, 0.1045963841282671, 0.4619673632331797, 0.22662549894457873, 0.12202911481631162], \"Term\": [\"1960\", \"36\", \"again\", \"again\", \"again\", \"again\", \"again\", \"ahead\", \"ahead\", \"ahead\", \"ahead\", \"airhorn\", \"al\", \"al\", \"al\", \"al\", \"album\", \"almost\", \"almost\", \"almost\", \"almost\", \"almost\", \"answer\", \"answer\", \"aretha\", \"around\", \"around\", \"around\", \"around\", \"around\", \"away\", \"away\", \"away\", \"away\", \"away\", \"back\", \"back\", \"back\", \"back\", \"back\", \"baedecker\", \"bankrupt\", \"bar\", \"bar\", \"bar\", \"bar\", \"bar\", \"barre\", \"battery\", \"battery\", \"battery\", \"beatrice\", \"becky\", \"began\", \"began\", \"began\", \"began\", \"bike\", \"bike\", \"bike\", \"blackandwhite\", \"blister\", \"bloated\", \"bluebeard\", \"bluebeard\", \"bobbing\", \"bolt\", \"bolt\", \"bolt\", \"bolt\", \"boogie\", \"booming\", \"box\", \"box\", \"box\", \"box\", \"boy\", \"boy\", \"boy\", \"boy\", \"brake\", \"brannigar\", \"brett\", \"brett\", \"buffalo\", \"bughouse\", \"buick\", \"buick\", \"buick\", \"bunch\", \"burst\", \"burst\", \"burst\", \"california\", \"california\", \"california\", \"california\", \"car\", \"car\", \"car\", \"car\", \"caribou\", \"caribou\", \"charge\", \"charge\", \"charge\", \"charge\", \"charles\", \"charles\", \"cheek\", \"cheek\", \"cheek\", \"chicago\", \"chin\", \"circuit\", \"circuit\", \"circuit\", \"clearly\", \"clicking\", \"clipper\", \"clipping\", \"clock\", \"clock\", \"clock\", \"clockface\", \"cog\", \"collapsed\", \"colorado\", \"colorado\", \"colorado\", \"colorado\", \"colorado\", \"come\", \"come\", \"come\", \"come\", \"come\", \"company\", \"company\", \"company\", \"company\", \"company\", \"convicted\", \"cottrell\", \"could\", \"could\", \"could\", \"could\", \"could\", \"country\", \"country\", \"country\", \"country\", \"cowling\", \"creeping\", \"crommert\\u2019s\", \"curb\", \"curiosity\", \"curiosity\", \"daddy\", \"daddy\", \"daddy\", \"daddy\", \"danny\", \"danny\", \"danny\", \"danny\", \"danny\", \"dated\", \"dated\", \"dawn\", \"day\", \"day\", \"day\", \"day\", \"day\", \"debate\", \"debate\", \"debater\", \"delores\", \"delores\", \"derwent\", \"derwent\", \"derwent\", \"desk\", \"desk\", \"desk\", \"desk\", \"desk\", \"development\", \"didn\\u2019t\", \"didn\\u2019t\", \"didn\\u2019t\", \"didn\\u2019t\", \"didn\\u2019t\", \"divorce\", \"divorce\", \"divorce\", \"doc\", \"doc\", \"doc\", \"dock\", \"dogman\", \"dome\", \"don\\u2019t\", \"don\\u2019t\", \"don\\u2019t\", \"don\\u2019t\", \"don\\u2019t\", \"door\", \"door\", \"door\", \"door\", \"door\", \"dr\", \"dr\", \"dray\", \"driver\", \"edmonds\", \"em\", \"em\", \"em\", \"embankment\", \"engine\", \"engine\", \"engine\", \"enterprise\", \"enterprise\", \"equipment\", \"equipment\", \"equipment\", \"equipment\", \"est\", \"even\", \"even\", \"even\", \"even\", \"even\", \"executive\", \"extinguisher\", \"extinguisher\", \"extreme\", \"eye\", \"eye\", \"eye\", \"eye\", \"eye\", \"face\", \"face\", \"face\", \"face\", \"face\", \"fair\", \"fair\", \"falling\", \"falling\", \"falling\", \"fat\", \"fat\", \"fat\", \"felt\", \"felt\", \"felt\", \"felt\", \"felt\", \"financial\", \"fire\", \"fire\", \"fire\", \"fire\", \"fire\", \"flaming\", \"flaming\", \"floor\", \"floor\", \"floor\", \"floor\", \"floor\", \"foolish\", \"forever\", \"former\", \"fraud\", \"frown\", \"fuckin\", \"fuckin\", \"fuckin\", \"gambling\", \"ganglandstyle\", \"gear\", \"george\", \"george\", \"george\", \"get\", \"get\", \"get\", \"get\", \"get\", \"gienelli\", \"gienelli\", \"giggled\", \"glue\", \"go\", \"go\", \"go\", \"go\", \"go\", \"going\", \"going\", \"going\", \"going\", \"going\", \"got\", \"got\", \"got\", \"got\", \"got\", \"grondin\", \"grondin\", \"group\", \"group\", \"group\", \"group\", \"group\", \"guardrail\", \"hallorann\", \"hallorann\", \"hallorann\", \"hallorann\", \"hand\", \"hand\", \"hand\", \"hand\", \"hand\", \"handcuffed\", \"harry\", \"hatfield\", \"hatfield\", \"hatfield\", \"hatfield\", \"head\", \"head\", \"head\", \"head\", \"head\", \"headline\", \"hedgeclipper\", \"high\", \"high\", \"high\", \"high\", \"high\", \"him\", \"him\", \"him\", \"him\", \"him\", \"hoarse\", \"horace\", \"horace\", \"horace\", \"horseblankets\", \"hose\", \"hose\", \"hose\", \"hospital\", \"hospital\", \"hospital\", \"hotel\", \"hotel\", \"hotel\", \"hotel\", \"hotel\", \"hurt\", \"hurt\", \"hurt\", \"hurt\", \"imaginary\", \"inc\", \"indicted\", \"inout\", \"installed\", \"installed\", \"intended\", \"interest\", \"interest\", \"interest\", \"interest\", \"interest\", \"investment\", \"investment\", \"investor\", \"investor\", \"invisible\", \"involvement\", \"it\", \"it\", \"it\", \"it\", \"it\", \"it\\u2019s\", \"it\\u2019s\", \"it\\u2019s\", \"it\\u2019s\", \"it\\u2019s\", \"i\\u2019m\", \"i\\u2019m\", \"i\\u2019m\", \"i\\u2019m\", \"i\\u2019m\", \"jack\", \"jack\", \"jack\", \"jack\", \"jack\", \"jacky\", \"jacky\", \"jag\", \"jag\", \"jag\\u2019s\", \"josh\", \"jumble\", \"kent\", \"knife\", \"knife\", \"knife\", \"know\", \"know\", \"know\", \"know\", \"la\", \"la\", \"lane\", \"lane\", \"ledger\", \"like\", \"like\", \"like\", \"like\", \"like\", \"limo\", \"limo\", \"lion\", \"lion\", \"lit\", \"lit\", \"lit\", \"lit\", \"lit\", \"little\", \"little\", \"little\", \"little\", \"little\", \"lloyd\", \"lloyd\", \"looked\", \"looked\", \"looked\", \"looked\", \"looked\", \"lou\", \"lou\", \"madame\", \"made\", \"made\", \"made\", \"made\", \"made\", \"maintenance\", \"mallet\", \"mallet\", \"mallet\", \"man\", \"man\", \"man\", \"man\", \"man\", \"map\", \"marble\", \"marble\", \"margery\", \"marilyn\", \"mask\", \"mask\", \"mask\", \"massey\", \"masterton\", \"masterton\", \"mciver\", \"miami\", \"millionaire\", \"millionaire\", \"mommy\", \"mommy\", \"monkey\", \"moorer\", \"mr\", \"mr\", \"mr\", \"mr\", \"murder\", \"murder\", \"murder\", \"murder\", \"muscle\", \"mystery\", \"m\\u2019\", \"neck\", \"neck\", \"neck\", \"neck\", \"neck\", \"new\", \"new\", \"new\", \"new\", \"new\", \"next\", \"next\", \"next\", \"next\", \"next\", \"nothing\", \"nothing\", \"nothing\", \"nothing\", \"nothing\", \"nozzle\", \"nozzle\", \"officious\", \"old\", \"old\", \"old\", \"old\", \"old\", \"omelet\", \"omen\", \"one\", \"one\", \"one\", \"one\", \"one\", \"overlook\", \"overlook\", \"overlook\", \"overlook\", \"overlook\", \"page\", \"page\", \"page\", \"pantry\", \"pantry\", \"pantry\", \"pantry\", \"paper\", \"paper\", \"paper\", \"paper\", \"paper\", \"parka\", \"plan\", \"plan\", \"plow\", \"plow\\u2019s\", \"poem\", \"pr\", \"prashkin\", \"president\", \"president\", \"president\", \"queasy\", \"queems\", \"queems\", \"queems\\u2019s\", \"rag\", \"railing\", \"real\", \"real\", \"real\", \"real\", \"rearview\", \"remember\", \"remember\", \"remember\", \"remember\", \"remember\", \"reputation\", \"reputation\", \"reputed\", \"rib\", \"right\", \"right\", \"right\", \"right\", \"right\", \"road\", \"road\", \"road\", \"road\", \"road\", \"roof\", \"roof\", \"roof\", \"room\", \"room\", \"room\", \"room\", \"room\", \"route\", \"said\", \"said\", \"said\", \"said\", \"said\", \"sannytarium\", \"scaredycat\", \"scrapbook\", \"scrapbook\", \"scrapbook\", \"see\", \"see\", \"see\", \"see\", \"see\", \"shed\", \"shed\", \"shed\", \"shed\", \"shelf\", \"shelf\", \"shelf\", \"shelf\", \"shelf\", \"shutter\", \"shutter\", \"skidoo\", \"skimmed\", \"snake\", \"snake\", \"snake\", \"snow\", \"snow\", \"snow\", \"snow\", \"sob\", \"something\", \"something\", \"something\", \"something\", \"something\", \"soup\", \"soup\", \"soup\", \"stairway\", \"steam\", \"steam\", \"stenger\", \"stenger\", \"stenger\", \"step\", \"step\", \"step\", \"step\", \"step\", \"stewardess\", \"stewardess\", \"still\", \"still\", \"still\", \"still\", \"still\", \"stool\", \"stool\", \"stu\", \"subconscious\", \"tail\", \"tail\", \"taller\", \"tax\", \"thing\", \"thing\", \"thing\", \"thing\", \"think\", \"think\", \"think\", \"think\", \"think\", \"thought\", \"thought\", \"thought\", \"thought\", \"thought\", \"thrown\", \"time\", \"time\", \"time\", \"time\", \"time\", \"tire\", \"tire\", \"tony\", \"tony\", \"tony\\u2019s\", \"toothy\", \"tossed\", \"trance\", \"tray\", \"tray\", \"tray\", \"triscuits\", \"trouble\", \"trouble\", \"trouble\", \"trouble\", \"turkey\", \"turned\", \"turned\", \"turned\", \"turned\", \"turned\", \"twinkling\", \"two\", \"two\", \"two\", \"two\", \"two\", \"ullman\", \"ullman\", \"ullman\", \"ullman\", \"underworld\", \"vecker\", \"vega\", \"vega\", \"wagon\", \"wagon\", \"wagon\", \"watson\", \"watson\", \"watson\", \"watson\", \"watson\", \"way\", \"way\", \"way\", \"way\", \"way\", \"wellbred\", \"wendy\", \"wendy\", \"wendy\", \"wendy\", \"wendy\", \"whale\", \"wink\", \"wit\", \"wit\", \"woman\", \"woman\", \"woman\", \"woman\", \"woman\", \"word\", \"word\", \"word\", \"word\", \"word\", \"workman\", \"worried\", \"worried\", \"would\", \"would\", \"would\", \"would\", \"would\", \"wrench\", \"year\", \"year\", \"year\", \"year\", \"year\"]}, \"R\": 30, \"lambda.step\": 0.01, \"plot.opts\": {\"xlab\": \"PC1\", \"ylab\": \"PC2\"}, \"topic.order\": [1, 2, 3, 4, 5]};\n",
       "\n",
       "function LDAvis_load_lib(url, callback){\n",
       "  var s = document.createElement('script');\n",
       "  s.src = url;\n",
       "  s.async = true;\n",
       "  s.onreadystatechange = s.onload = callback;\n",
       "  s.onerror = function(){console.warn(\"failed to load library \" + url);};\n",
       "  document.getElementsByTagName(\"head\")[0].appendChild(s);\n",
       "}\n",
       "\n",
       "if(typeof(LDAvis) !== \"undefined\"){\n",
       "   // already loaded: just create the visualization\n",
       "   !function(LDAvis){\n",
       "       new LDAvis(\"#\" + \"ldavis_el298660123588807919865072\", ldavis_el298660123588807919865072_data);\n",
       "   }(LDAvis);\n",
       "}else if(typeof define === \"function\" && define.amd){\n",
       "   // require.js is available: use it to load d3/LDAvis\n",
       "   require.config({paths: {d3: \"https://d3js.org/d3.v5\"}});\n",
       "   require([\"d3\"], function(d3){\n",
       "      window.d3 = d3;\n",
       "      LDAvis_load_lib(\"https://cdn.jsdelivr.net/gh/bmabey/pyLDAvis@3.4.0/pyLDAvis/js/ldavis.v3.0.0.js\", function(){\n",
       "        new LDAvis(\"#\" + \"ldavis_el298660123588807919865072\", ldavis_el298660123588807919865072_data);\n",
       "      });\n",
       "    });\n",
       "}else{\n",
       "    // require.js not available: dynamically load d3 & LDAvis\n",
       "    LDAvis_load_lib(\"https://d3js.org/d3.v5.js\", function(){\n",
       "         LDAvis_load_lib(\"https://cdn.jsdelivr.net/gh/bmabey/pyLDAvis@3.4.0/pyLDAvis/js/ldavis.v3.0.0.js\", function(){\n",
       "                 new LDAvis(\"#\" + \"ldavis_el298660123588807919865072\", ldavis_el298660123588807919865072_data);\n",
       "            })\n",
       "         });\n",
       "}\n",
       "</script>"
      ],
      "text/plain": [
       "<IPython.core.display.HTML object>"
      ]
     },
     "execution_count": 87,
     "metadata": {},
     "output_type": "execute_result"
    }
   ],
   "source": [
    "lda_display = pyLDAvis.gensim.prepare(ldamodel, doc_term_matrix, word_dict, sort_topics=False, mds='mmds')\n",
    "pyLDAvis.display(lda_display)"
   ]
  },
  {
   "cell_type": "code",
   "execution_count": 88,
   "metadata": {},
   "outputs": [],
   "source": [
    "# Assigns the topics to the documents in corpus\n",
    "lda_corpus = ldamodel[doc_term_matrix]"
   ]
  },
  {
   "cell_type": "code",
   "execution_count": 89,
   "metadata": {},
   "outputs": [
    {
     "name": "stdout",
     "output_type": "stream",
     "text": [
      "0.2000000008112442\n"
     ]
    }
   ],
   "source": [
    "scores = list(chain(*[[score for topic_id,score in topic] \\\n",
    "                      for topic in [doc for doc in lda_corpus]]))\n",
    "\n",
    "threshold = sum(scores)/len(scores)\n",
    "print(threshold)"
   ]
  },
  {
   "cell_type": "markdown",
   "metadata": {},
   "source": [
    "Assigning the clusters"
   ]
  },
  {
   "cell_type": "code",
   "execution_count": 90,
   "metadata": {},
   "outputs": [],
   "source": [
    "cluster1 = [j for i,j in zip(lda_corpus,df.index) if i[0][1] > threshold]\n",
    "cluster2 = [j for i,j in zip(lda_corpus,df.index) if i[1][1] > threshold]\n",
    "cluster3 = [j for i,j in zip(lda_corpus,df.index) if i[2][1] > threshold]\n",
    "cluster4 = [j for i,j in zip(lda_corpus,df.index) if i[3][1] > threshold]\n",
    "cluster5 = [j for i,j in zip(lda_corpus,df.index) if i[4][1] > threshold]"
   ]
  },
  {
   "cell_type": "markdown",
   "metadata": {},
   "source": [
    "Seeing what chapters are clustered together"
   ]
  },
  {
   "cell_type": "code",
   "execution_count": 91,
   "metadata": {},
   "outputs": [
    {
     "data": {
      "text/html": [
       "<div>\n",
       "<style scoped>\n",
       "    .dataframe tbody tr th:only-of-type {\n",
       "        vertical-align: middle;\n",
       "    }\n",
       "\n",
       "    .dataframe tbody tr th {\n",
       "        vertical-align: top;\n",
       "    }\n",
       "\n",
       "    .dataframe thead th {\n",
       "        text-align: right;\n",
       "    }\n",
       "</style>\n",
       "<table border=\"1\" class=\"dataframe\">\n",
       "  <thead>\n",
       "    <tr style=\"text-align: right;\">\n",
       "      <th></th>\n",
       "      <th>Chapter Number</th>\n",
       "      <th>Sentiment</th>\n",
       "      <th>Average Compound Score</th>\n",
       "      <th>Full Text</th>\n",
       "      <th>chp_words</th>\n",
       "    </tr>\n",
       "  </thead>\n",
       "  <tbody>\n",
       "    <tr>\n",
       "      <th>17</th>\n",
       "      <td>18</td>\n",
       "      <td>weak positive</td>\n",
       "      <td>0.012725</td>\n",
       "      <td>chapter eighteen the scrapbook jack found the ...</td>\n",
       "      <td>[chapter, eighteen, scrapbook, jack, found, sc...</td>\n",
       "    </tr>\n",
       "  </tbody>\n",
       "</table>\n",
       "</div>"
      ],
      "text/plain": [
       "    Chapter Number      Sentiment  Average Compound Score  \\\n",
       "17              18  weak positive                0.012725   \n",
       "\n",
       "                                            Full Text  \\\n",
       "17  chapter eighteen the scrapbook jack found the ...   \n",
       "\n",
       "                                            chp_words  \n",
       "17  [chapter, eighteen, scrapbook, jack, found, sc...  "
      ]
     },
     "execution_count": 91,
     "metadata": {},
     "output_type": "execute_result"
    }
   ],
   "source": [
    "df.iloc[cluster1]"
   ]
  },
  {
   "cell_type": "code",
   "execution_count": 92,
   "metadata": {},
   "outputs": [
    {
     "data": {
      "text/html": [
       "<div>\n",
       "<style scoped>\n",
       "    .dataframe tbody tr th:only-of-type {\n",
       "        vertical-align: middle;\n",
       "    }\n",
       "\n",
       "    .dataframe tbody tr th {\n",
       "        vertical-align: top;\n",
       "    }\n",
       "\n",
       "    .dataframe thead th {\n",
       "        text-align: right;\n",
       "    }\n",
       "</style>\n",
       "<table border=\"1\" class=\"dataframe\">\n",
       "  <thead>\n",
       "    <tr style=\"text-align: right;\">\n",
       "      <th></th>\n",
       "      <th>Chapter Number</th>\n",
       "      <th>Sentiment</th>\n",
       "      <th>Average Compound Score</th>\n",
       "      <th>Full Text</th>\n",
       "      <th>chp_words</th>\n",
       "    </tr>\n",
       "  </thead>\n",
       "  <tbody>\n",
       "    <tr>\n",
       "      <th>1</th>\n",
       "      <td>2</td>\n",
       "      <td>weak negative</td>\n",
       "      <td>-0.019968</td>\n",
       "      <td>chapter two boulder she looked out the kitchen...</td>\n",
       "      <td>[chapter, two, boulder, looked, kitchen, windo...</td>\n",
       "    </tr>\n",
       "    <tr>\n",
       "      <th>4</th>\n",
       "      <td>5</td>\n",
       "      <td>neutral</td>\n",
       "      <td>0.007354</td>\n",
       "      <td>chapter five phonebooth jack parked the vw in ...</td>\n",
       "      <td>[chapter, five, phonebooth, jack, parked, vw, ...</td>\n",
       "    </tr>\n",
       "    <tr>\n",
       "      <th>12</th>\n",
       "      <td>13</td>\n",
       "      <td>weak positive</td>\n",
       "      <td>0.029682</td>\n",
       "      <td>chapter thirteen the front porch the torrance ...</td>\n",
       "      <td>[chapter, thirteen, front, porch, torrance, fa...</td>\n",
       "    </tr>\n",
       "    <tr>\n",
       "      <th>14</th>\n",
       "      <td>15</td>\n",
       "      <td>positive</td>\n",
       "      <td>0.083067</td>\n",
       "      <td>chapter fifteen down in the front yard jack ha...</td>\n",
       "      <td>[chapter, fifteen, front, yard, jack, found, h...</td>\n",
       "    </tr>\n",
       "    <tr>\n",
       "      <th>27</th>\n",
       "      <td>28</td>\n",
       "      <td>neutral</td>\n",
       "      <td>-0.001825</td>\n",
       "      <td>chapter twenty -eight it was her! jack had sto...</td>\n",
       "      <td>[chapter, twenty, eight, her, jack, stood, sta...</td>\n",
       "    </tr>\n",
       "    <tr>\n",
       "      <th>32</th>\n",
       "      <td>33</td>\n",
       "      <td>weak negative</td>\n",
       "      <td>-0.012005</td>\n",
       "      <td>chapter thirty -three the snowmobile sometime ...</td>\n",
       "      <td>[chapter, thirty, three, snowmobile, sometime,...</td>\n",
       "    </tr>\n",
       "    <tr>\n",
       "      <th>35</th>\n",
       "      <td>36</td>\n",
       "      <td>weak negative</td>\n",
       "      <td>-0.032447</td>\n",
       "      <td>chapter thirty -six the elevator jack awoke fr...</td>\n",
       "      <td>[chapter, thirty, six, elevator, jack, awoke, ...</td>\n",
       "    </tr>\n",
       "    <tr>\n",
       "      <th>39</th>\n",
       "      <td>40</td>\n",
       "      <td>negative</td>\n",
       "      <td>-0.070606</td>\n",
       "      <td>chapter forty in the basement !!! the boiler t...</td>\n",
       "      <td>[chapter, forty, basement, boiler, goddam, boi...</td>\n",
       "    </tr>\n",
       "    <tr>\n",
       "      <th>44</th>\n",
       "      <td>45</td>\n",
       "      <td>neutral</td>\n",
       "      <td>0.008469</td>\n",
       "      <td>chapter forty -five stapleton airport denver a...</td>\n",
       "      <td>[chapter, forty, five, stapleton, airport, den...</td>\n",
       "    </tr>\n",
       "    <tr>\n",
       "      <th>47</th>\n",
       "      <td>48</td>\n",
       "      <td>weak negative</td>\n",
       "      <td>-0.018217</td>\n",
       "      <td>chapter forty -eight jack he sat on the floor ...</td>\n",
       "      <td>[chapter, forty, eight, jack, sat, floor, pant...</td>\n",
       "    </tr>\n",
       "    <tr>\n",
       "      <th>56</th>\n",
       "      <td>57</td>\n",
       "      <td>negative</td>\n",
       "      <td>-0.074866</td>\n",
       "      <td>chapter fifty -seven exit the roar shook the w...</td>\n",
       "      <td>[chapter, fifty, seven, exit, roar, shook, who...</td>\n",
       "    </tr>\n",
       "    <tr>\n",
       "      <th>57</th>\n",
       "      <td>58</td>\n",
       "      <td>weak positive</td>\n",
       "      <td>0.043678</td>\n",
       "      <td>chapter fifty -eight epilogue / summer after h...</td>\n",
       "      <td>[chapter, fifty, eight, epilogue, summer, fini...</td>\n",
       "    </tr>\n",
       "  </tbody>\n",
       "</table>\n",
       "</div>"
      ],
      "text/plain": [
       "    Chapter Number      Sentiment  Average Compound Score  \\\n",
       "1                2  weak negative               -0.019968   \n",
       "4                5        neutral                0.007354   \n",
       "12              13  weak positive                0.029682   \n",
       "14              15       positive                0.083067   \n",
       "27              28        neutral               -0.001825   \n",
       "32              33  weak negative               -0.012005   \n",
       "35              36  weak negative               -0.032447   \n",
       "39              40       negative               -0.070606   \n",
       "44              45        neutral                0.008469   \n",
       "47              48  weak negative               -0.018217   \n",
       "56              57       negative               -0.074866   \n",
       "57              58  weak positive                0.043678   \n",
       "\n",
       "                                            Full Text  \\\n",
       "1   chapter two boulder she looked out the kitchen...   \n",
       "4   chapter five phonebooth jack parked the vw in ...   \n",
       "12  chapter thirteen the front porch the torrance ...   \n",
       "14  chapter fifteen down in the front yard jack ha...   \n",
       "27  chapter twenty -eight it was her! jack had sto...   \n",
       "32  chapter thirty -three the snowmobile sometime ...   \n",
       "35  chapter thirty -six the elevator jack awoke fr...   \n",
       "39  chapter forty in the basement !!! the boiler t...   \n",
       "44  chapter forty -five stapleton airport denver a...   \n",
       "47  chapter forty -eight jack he sat on the floor ...   \n",
       "56  chapter fifty -seven exit the roar shook the w...   \n",
       "57  chapter fifty -eight epilogue / summer after h...   \n",
       "\n",
       "                                            chp_words  \n",
       "1   [chapter, two, boulder, looked, kitchen, windo...  \n",
       "4   [chapter, five, phonebooth, jack, parked, vw, ...  \n",
       "12  [chapter, thirteen, front, porch, torrance, fa...  \n",
       "14  [chapter, fifteen, front, yard, jack, found, h...  \n",
       "27  [chapter, twenty, eight, her, jack, stood, sta...  \n",
       "32  [chapter, thirty, three, snowmobile, sometime,...  \n",
       "35  [chapter, thirty, six, elevator, jack, awoke, ...  \n",
       "39  [chapter, forty, basement, boiler, goddam, boi...  \n",
       "44  [chapter, forty, five, stapleton, airport, den...  \n",
       "47  [chapter, forty, eight, jack, sat, floor, pant...  \n",
       "56  [chapter, fifty, seven, exit, roar, shook, who...  \n",
       "57  [chapter, fifty, eight, epilogue, summer, fini...  "
      ]
     },
     "execution_count": 92,
     "metadata": {},
     "output_type": "execute_result"
    }
   ],
   "source": [
    "df.iloc[cluster2]"
   ]
  },
  {
   "cell_type": "code",
   "execution_count": null,
   "metadata": {},
   "outputs": [],
   "source": [
    "df.iloc[cluster3]"
   ]
  },
  {
   "cell_type": "code",
   "execution_count": null,
   "metadata": {},
   "outputs": [],
   "source": [
    "df.iloc[cluster4]"
   ]
  },
  {
   "cell_type": "code",
   "execution_count": null,
   "metadata": {},
   "outputs": [],
   "source": [
    "df.iloc[cluster5]"
   ]
  },
  {
   "cell_type": "markdown",
   "metadata": {},
   "source": [
    "\n",
    "**Sentiment analysis on every paragraph for each chapter**\n",
    "\n",
    "Breakdown each chapter by paragraph and get the sentiment for each paragraph"
   ]
  },
  {
   "cell_type": "code",
   "execution_count": null,
   "metadata": {},
   "outputs": [],
   "source": [
    "#Function to split a text file into paragraphs\n",
    "def split_into_paragraphs(filename):\n",
    "    with open(filename, 'r', encoding='utf-8') as file:\n",
    "        text = file.read()  # Read the contents of the file\n",
    "\n",
    "        #Getting rid of quotations, commas, paretheses, etc., and converting everything to lower case\n",
    "        text = (text.replace('\"', '').replace('…', '').replace(',', '').replace('“', '').replace('”', '').replace('(', '').replace(')', '').lower())\n",
    "    #Split the text into paragraphs using blank lines as the delimiter\n",
    "    paragraphs = [paragraph.strip() for paragraph in text.split('\\n\\n') if paragraph.strip()]\n",
    "    return paragraphs"
   ]
  },
  {
   "cell_type": "markdown",
   "metadata": {},
   "source": [
    "Compound scores will be higher since it is isolated to the chapter level. Will need to rework the classifiers for sentiment taking this into consideration. \n",
    "\n",
    "Most are going to be in the range of -1 to 1"
   ]
  },
  {
   "cell_type": "code",
   "execution_count": null,
   "metadata": {},
   "outputs": [],
   "source": [
    "#Function to have custom sentiment classifiers based on compound score\n",
    "def classify_sentiment(compound_score):\n",
    "    if compound_score > 0.5:\n",
    "        return 'Strong Positive'\n",
    "    elif 0.5 >= compound_score > 0.1:\n",
    "        return 'Weak Positive'\n",
    "    elif 0.1 >= compound_score >= -0.1:\n",
    "        return 'Neutral'\n",
    "    elif -0.1 > compound_score >= -0.5:\n",
    "        return 'Weak Negative'\n",
    "    else:  #compound_score < -0.5\n",
    "        return 'Strong Negative'"
   ]
  },
  {
   "cell_type": "code",
   "execution_count": null,
   "metadata": {},
   "outputs": [],
   "source": [
    "#Function to analyze sentiment for each paragraph\n",
    "def analyze_chapter(filename):\n",
    "    analyzer = SentimentIntensityAnalyzer()  #Initialize sentiment analyzer\n",
    "    paragraphs = split_into_paragraphs(filename)  #Split file into paragraphs\n",
    "    \n",
    "     #Formating for a data frame\n",
    "    data = []\n",
    "    for i, paragraph in enumerate(paragraphs, start=1):\n",
    "        sentiment = analyzer.polarity_scores(paragraph)  #Perform sentiment analysis\n",
    "        classification = classify_sentiment(sentiment['compound'])  #Classify sentiment\n",
    "        data.append({\n",
    "            'Paragraph Number': i, #extracting the paragraph number\n",
    "            'Compound Score': sentiment['compound'], #extracting the compound score for each paragraph\n",
    "            'Classification': classification #extracting the classification for each paragraph\n",
    "        })\n",
    "    \n",
    "    df = pd.DataFrame(data)\n",
    "    return df"
   ]
  },
  {
   "cell_type": "markdown",
   "metadata": {},
   "source": [
    "**NO NEED TO RUN AGAIN**\n",
    "\n",
    "Running function on all chapters in the \"chapters\" folder as created before and saving them as CSVs"
   ]
  },
  {
   "cell_type": "code",
   "execution_count": null,
   "metadata": {},
   "outputs": [],
   "source": [
    "#File path of the folder containing the chapters of The Shinning\n",
    "folder_path = os.path.join(os.getcwd(), 'chapters')  #Path to the \"chapters\" folder\n",
    "output_folder = os.path.join(os.getcwd(), 'chapter_paragraphs')  #Path to the \"chapter_paragraphs\" folder, made this for ease of access\n",
    "os.makedirs(output_folder, exist_ok=True)\n",
    "\n",
    "#List all chapter files in the \"chapters\" folder\n",
    "chapters = os.listdir(folder_path)\n",
    "\n",
    "#Loop through each chapter text file and apply the function above\n",
    "for chapter in chapters:\n",
    "    file_path = os.path.join(folder_path, chapter)  #Get full file path\n",
    "    \n",
    "    #Only process .txt files\n",
    "    if chapter.endswith('.txt'):\n",
    "        df_name = os.path.splitext(chapter)[0] + '_paragraphs'  #Remove '.txt' and add '_paragraphs'\n",
    "        \n",
    "        #Analyze and store in a DataFrame\n",
    "        df = analyze_chapter(file_path)\n",
    "        \n",
    "        #Save to CSV in the output folder\n",
    "        output_path = os.path.join(output_folder, f'{df_name}.csv')\n",
    "        df.to_csv(output_path, index=False)\n",
    "        \n",
    "        print(f\"Processed {chapter} and saved to {output_path}\")"
   ]
  },
  {
   "cell_type": "markdown",
   "metadata": {},
   "source": [
    "**Visualizing the data**\n",
    "\n",
    "General idea: display the sentiment for the book w/ compound scores on y axis and chapters on the x axis. Hover over each point to get specific information about the chapter. Click that point to then pull up a second graph w/ compond scores on y axis and the chapter's paragraphs on the x axis"
   ]
  },
  {
   "cell_type": "code",
   "execution_count": 102,
   "metadata": {},
   "outputs": [],
   "source": [
    "allchapters = pd.read_csv('allchapters.csv') #Sentiment for The Shinning broken down by chapter sentences\n",
    "\n",
    "#Sentiment for the individual chapters broken down by paragraphs\n",
    "folder_path = 'chapter_paragraphs' #Folder path for individual chapters\n",
    "chapter_dfs = {} #Load all individual chapter DataFrames dynamically\n",
    "for i in range(1, 59):\n",
    "    file_name = f'chapter_{i}_paragraphs.csv'\n",
    "    file_path = os.path.join(folder_path, file_name)\n",
    "    chapter_dfs[f'chp{i}'] = pd.read_csv(file_path)"
   ]
  },
  {
   "cell_type": "code",
   "execution_count": 103,
   "metadata": {},
   "outputs": [
    {
     "data": {
      "text/html": [
       "\n",
       "        <iframe\n",
       "            width=\"100%\"\n",
       "            height=\"650\"\n",
       "            src=\"http://127.0.0.1:8050/\"\n",
       "            frameborder=\"0\"\n",
       "            allowfullscreen\n",
       "            \n",
       "        ></iframe>\n",
       "        "
      ],
      "text/plain": [
       "<IPython.lib.display.IFrame at 0x161b5f850>"
      ]
     },
     "metadata": {},
     "output_type": "display_data"
    }
   ],
   "source": [
    "#Initialize Dash app\n",
    "app = dash.Dash(__name__)\n",
    "\n",
    "#Create the main line plot for 'allchapters'\n",
    "main_fig = px.line(\n",
    "    allchapters, \n",
    "    x='Chapter Number', \n",
    "    y='Average Compound Score', \n",
    "    markers=True, \n",
    "    title=\"<i>The Shinning</i><br>Sentiment Breakdown by Chapter\"  \n",
    ")\n",
    "\n",
    "#Add hover info\n",
    "main_fig.update_traces(\n",
    "    hovertemplate='Chapter: %{x}<br>Score: %{y}<br>Sentiment: %{customdata}<extra></extra>',\n",
    "    customdata=allchapters['Sentiment']\n",
    ")\n",
    "\n",
    "#Marker/line colors\n",
    "main_fig.update_traces(\n",
    "    line=dict(color='#D36D6D'),  #Set line color to a much lighter red\n",
    "    marker=dict(\n",
    "        color='#800020',  #Set marker color to burgundy\n",
    "    )\n",
    ")\n",
    "\n",
    "#Configurating x axis\n",
    "main_fig.update_layout(\n",
    "    xaxis=dict(\n",
    "        tickmode='array',  \n",
    "        tickvals=allchapters['Chapter Number'].unique(),  #Use unique chapter numbers for ticks\n",
    "        range=[allchapters['Chapter Number'].min(), allchapters['Chapter Number'].max()],  #Set x-axis range to the min and max chapter numbers\n",
    "        tickangle=-45,  #Rotate x-axis labels to 45 degrees to the left\n",
    "        tickfont=dict(size=12, family='Arial', weight='bold'),  #Make x-axis ticks bold\n",
    "    ),\n",
    "    # Add horizontal line at y=0 (black)\n",
    "    shapes=[dict(\n",
    "        type='line',\n",
    "        x0=allchapters['Chapter Number'].min(),\n",
    "        x1=allchapters['Chapter Number'].max(),\n",
    "        y0=0,\n",
    "        y1=0,\n",
    "        line=dict(\n",
    "            color='black',\n",
    "            width=1.5,\n",
    "            dash='solid'\n",
    "        )\n",
    "    )],\n",
    "    #Make plot background gray\n",
    "    plot_bgcolor='#f5f5f5',  \n",
    "    width=1200,  \n",
    "    title=dict(\n",
    "        x=0.5, #center the title\n",
    "        xanchor='center',  \n",
    "        yanchor='top',  \n",
    "    )\n",
    ")\n",
    "\n",
    "#Layout of the app\n",
    "app.layout = html.Div([\n",
    "    #Main graph\n",
    "    dcc.Graph(id='main-graph', figure=main_fig, style={'width': '1200px'}),\n",
    "    \n",
    "    #Placeholder for the detailed graph\n",
    "    dcc.Graph(id='detail-graph', style={'width': '1200px'})\n",
    "])\n",
    "\n",
    "#Callback to update the detailed graph when clicking a chapter in the main graph\n",
    "@app.callback(\n",
    "    Output('detail-graph', 'figure'),\n",
    "    Input('main-graph', 'clickData')\n",
    ")\n",
    "def update_detail_graph(click_data):\n",
    "    if click_data:\n",
    "        #Extract chapter number from the clicked point\n",
    "        chapter_num = click_data['points'][0]['x']\n",
    "        \n",
    "        #Get the corresponding chapter DataFrame\n",
    "        ch_df = chapter_dfs.get(f'chp{int(chapter_num)}', pd.DataFrame())\n",
    "\n",
    "        #Get the min and max values for compound score\n",
    "        detail_min_value = ch_df['Compound Score'].min()\n",
    "        detail_max_value = ch_df['Compound Score'].max()\n",
    "\n",
    "        #Create a plot for the selected chapter\n",
    "        if not ch_df.empty:\n",
    "            detail_fig = px.line(\n",
    "                ch_df,\n",
    "                x='Paragraph Number',\n",
    "                y='Compound Score',\n",
    "                markers=True,\n",
    "                title=f\"Sentiment Breakdown for Chapter: {int(chapter_num)}\"\n",
    "            )\n",
    "\n",
    "            #Add hover info for the detail plot\n",
    "            detail_fig.update_traces(\n",
    "                hovertemplate='Paragraph: %{x}<br>Score: %{y}<br>Sentiment: %{customdata}<extra></extra>',\n",
    "                customdata=ch_df['Classification']  \n",
    "            )\n",
    "\n",
    "            detail_fig.update_traces(\n",
    "                line=dict(color='#D36D6D'),\n",
    "                marker=dict(\n",
    "                    color='#800020',\n",
    "                )\n",
    "            )\n",
    "\n",
    "            #Dynamically update the x-axis range for the 'detailed' graph\n",
    "            detail_fig.update_layout(\n",
    "                xaxis=dict(\n",
    "                    tickmode='array',  \n",
    "                    tickvals=ch_df['Paragraph Number'].unique(), \n",
    "                    tickangle=-45,  \n",
    "                    tickfont=dict(size=12, family='Arial', weight='bold'),  \n",
    "                    range=[ch_df['Paragraph Number'].min(), ch_df['Paragraph Number'].max()]  \n",
    "                ),\n",
    "\n",
    "                shapes=[dict(\n",
    "                    type='line',\n",
    "                    x0=ch_df['Paragraph Number'].min(),\n",
    "                    x1=ch_df['Paragraph Number'].max(),\n",
    "                    y0=0,\n",
    "                    y1=0,\n",
    "                    line=dict(\n",
    "                        color='black',\n",
    "                        width=1.5,\n",
    "                        dash='solid'\n",
    "                    )\n",
    "                )],\n",
    "              \n",
    "                plot_bgcolor='#f5f5f5',  \n",
    "                width=1200,  \n",
    "                height=500,  \n",
    "                title=dict(\n",
    "                    x=0.5,  \n",
    "                    xanchor='center',  \n",
    "                    yanchor='top', \n",
    "                )\n",
    "            )\n",
    "\n",
    "            return detail_fig\n",
    "    return {}\n",
    "\n",
    "# Run the app\n",
    "if __name__ == '__main__':\n",
    "    app.run_server(debug=True)\n"
   ]
  }
 ],
 "metadata": {
  "kernelspec": {
   "display_name": "Python 3",
   "language": "python",
   "name": "python3"
  },
  "language_info": {
   "codemirror_mode": {
    "name": "ipython",
    "version": 3
   },
   "file_extension": ".py",
   "mimetype": "text/x-python",
   "name": "python",
   "nbconvert_exporter": "python",
   "pygments_lexer": "ipython3",
   "version": "3.10.6"
  }
 },
 "nbformat": 4,
 "nbformat_minor": 2
}
